{
  "nbformat": 4,
  "nbformat_minor": 0,
  "metadata": {
    "colab": {
      "provenance": []
    },
    "interpreter": {
      "hash": "d62006d1f3422635846181a997a61e8ec3049f797e5d7dfe0cd1bb84092b7c19"
    },
    "kernelspec": {
      "display_name": "Python 3 (ipykernel)",
      "language": "python",
      "name": "python3"
    },
    "language_info": {
      "codemirror_mode": {
        "name": "ipython",
        "version": 3
      },
      "file_extension": ".py",
      "mimetype": "text/x-python",
      "name": "python",
      "nbconvert_exporter": "python",
      "pygments_lexer": "ipython3",
      "version": "3.9.7"
    },
    "widgets": {
      "application/vnd.jupyter.widget-state+json": {
        "bc15e8fbc4b14c5eb923e001f0f08c52": {
          "model_module": "@jupyter-widgets/controls",
          "model_name": "VBoxModel",
          "model_module_version": "1.5.0",
          "state": {
            "_view_name": "VBoxView",
            "_dom_classes": [
              "widget-interact"
            ],
            "_model_name": "VBoxModel",
            "_view_module": "@jupyter-widgets/controls",
            "_model_module_version": "1.5.0",
            "_view_count": null,
            "_view_module_version": "1.5.0",
            "box_style": "",
            "layout": "IPY_MODEL_6c37efe44a9443beb5928a1352534dbf",
            "_model_module": "@jupyter-widgets/controls",
            "children": [
              "IPY_MODEL_08be62cbdeb34864ba3da37dd659b67e",
              "IPY_MODEL_8f7b58f9428846e7af8b99a8077431ff"
            ]
          }
        },
        "6c37efe44a9443beb5928a1352534dbf": {
          "model_module": "@jupyter-widgets/base",
          "model_name": "LayoutModel",
          "model_module_version": "1.2.0",
          "state": {
            "_view_name": "LayoutView",
            "grid_template_rows": null,
            "right": null,
            "justify_content": null,
            "_view_module": "@jupyter-widgets/base",
            "overflow": null,
            "_model_module_version": "1.2.0",
            "_view_count": null,
            "flex_flow": null,
            "width": null,
            "min_width": null,
            "border": null,
            "align_items": null,
            "bottom": null,
            "_model_module": "@jupyter-widgets/base",
            "top": null,
            "grid_column": null,
            "overflow_y": null,
            "overflow_x": null,
            "grid_auto_flow": null,
            "grid_area": null,
            "grid_template_columns": null,
            "flex": null,
            "_model_name": "LayoutModel",
            "justify_items": null,
            "grid_row": null,
            "max_height": null,
            "align_content": null,
            "visibility": null,
            "align_self": null,
            "height": null,
            "min_height": null,
            "padding": null,
            "grid_auto_rows": null,
            "grid_gap": null,
            "max_width": null,
            "order": null,
            "_view_module_version": "1.2.0",
            "grid_template_areas": null,
            "object_position": null,
            "object_fit": null,
            "grid_auto_columns": null,
            "margin": null,
            "display": null,
            "left": null
          }
        },
        "08be62cbdeb34864ba3da37dd659b67e": {
          "model_module": "@jupyter-widgets/controls",
          "model_name": "DropdownModel",
          "model_module_version": "1.5.0",
          "state": {
            "_options_labels": [
              "ACB",
              "SCB",
              "BIDV",
              "TPB",
              "VCB",
              "VTB",
              "Lợi nhuận trước thuế của các ngân hàng",
              "Lợi nhuận sau thuế của các ngân hàng"
            ],
            "_view_name": "DropdownView",
            "style": "IPY_MODEL_d82c736543514d6d8db2e59ba44d499f",
            "_dom_classes": [],
            "description": "Name",
            "_model_name": "DropdownModel",
            "index": 0,
            "_view_module": "@jupyter-widgets/controls",
            "_model_module_version": "1.5.0",
            "_view_count": null,
            "disabled": false,
            "_view_module_version": "1.5.0",
            "description_tooltip": null,
            "_model_module": "@jupyter-widgets/controls",
            "layout": "IPY_MODEL_181faec6e12c4f85aa874a6bfb02e18e"
          }
        },
        "8f7b58f9428846e7af8b99a8077431ff": {
          "model_module": "@jupyter-widgets/output",
          "model_name": "OutputModel",
          "model_module_version": "1.0.0",
          "state": {
            "_view_name": "OutputView",
            "msg_id": "",
            "_dom_classes": [],
            "_model_name": "OutputModel",
            "outputs": [
              {
                "output_type": "display_data",
                "data": {
                  "application/vnd.jupyter.widget-view+json": {
                    "model_id": "b0428482401d4570a6d6420335281922",
                    "version_minor": 0,
                    "version_major": 2
                  },
                  "text/plain": "FigureWidget({\n    'data': [{'name': 'Lợi nhuận trước thuế',\n              'opacity': 0.75,\n              'typ…"
                },
                "metadata": {}
              }
            ],
            "_view_module": "@jupyter-widgets/output",
            "_model_module_version": "1.0.0",
            "_view_count": null,
            "_view_module_version": "1.0.0",
            "layout": "IPY_MODEL_10991b063613422f88f9893d5957e6dd",
            "_model_module": "@jupyter-widgets/output"
          }
        },
        "d82c736543514d6d8db2e59ba44d499f": {
          "model_module": "@jupyter-widgets/controls",
          "model_name": "DescriptionStyleModel",
          "model_module_version": "1.5.0",
          "state": {
            "_view_name": "StyleView",
            "_model_name": "DescriptionStyleModel",
            "description_width": "",
            "_view_module": "@jupyter-widgets/base",
            "_model_module_version": "1.5.0",
            "_view_count": null,
            "_view_module_version": "1.2.0",
            "_model_module": "@jupyter-widgets/controls"
          }
        },
        "181faec6e12c4f85aa874a6bfb02e18e": {
          "model_module": "@jupyter-widgets/base",
          "model_name": "LayoutModel",
          "model_module_version": "1.2.0",
          "state": {
            "_view_name": "LayoutView",
            "grid_template_rows": null,
            "right": null,
            "justify_content": null,
            "_view_module": "@jupyter-widgets/base",
            "overflow": null,
            "_model_module_version": "1.2.0",
            "_view_count": null,
            "flex_flow": null,
            "width": null,
            "min_width": null,
            "border": null,
            "align_items": null,
            "bottom": null,
            "_model_module": "@jupyter-widgets/base",
            "top": null,
            "grid_column": null,
            "overflow_y": null,
            "overflow_x": null,
            "grid_auto_flow": null,
            "grid_area": null,
            "grid_template_columns": null,
            "flex": null,
            "_model_name": "LayoutModel",
            "justify_items": null,
            "grid_row": null,
            "max_height": null,
            "align_content": null,
            "visibility": null,
            "align_self": null,
            "height": null,
            "min_height": null,
            "padding": null,
            "grid_auto_rows": null,
            "grid_gap": null,
            "max_width": null,
            "order": null,
            "_view_module_version": "1.2.0",
            "grid_template_areas": null,
            "object_position": null,
            "object_fit": null,
            "grid_auto_columns": null,
            "margin": null,
            "display": null,
            "left": null
          }
        },
        "b0428482401d4570a6d6420335281922": {
          "model_module": "plotlywidget",
          "model_name": "FigureModel",
          "model_module_version": "^1.4.0",
          "state": {
            "_view_name": "FigureView",
            "_py2js_animate": {},
            "_py2js_removeLayoutProps": {},
            "_last_trace_edit_id": 0,
            "_view_module": "plotlywidget",
            "_model_module_version": "^1.4.0",
            "_view_count": 0,
            "_js2py_relayout": {},
            "_py2js_moveTraces": {},
            "_py2js_addTraces": {},
            "_model_module": "plotlywidget",
            "_py2js_relayout": null,
            "_js2py_pointsCallback": {},
            "_js2py_update": {},
            "_js2py_restyle": {},
            "_py2js_removeTraceProps": {},
            "_py2js_deleteTraces": {},
            "_dom_classes": [],
            "_model_name": "FigureModel",
            "_layout": {
              "barmode": "group",
              "yaxis": {
                "title": {
                  "text": "Ngàn tỷ"
                }
              },
              "xaxis": {
                "title": {
                  "text": "Quý"
                }
              },
              "title": {
                "text": "Lợi nhuận trước thuế và lời nhuận sau thuế của ACB"
              }
            },
            "_js2py_layoutDelta": {},
            "_py2js_update": {},
            "_data": [
              {
                "opacity": 0.75,
                "name": "Lợi nhuận trước thuế",
                "y": [
                  1706894000000,
                  1915339000000,
                  1938773000000,
                  1954930000000,
                  1924923000000,
                  1894664000000,
                  2591572000000,
                  3184729000000,
                  3104319000000,
                  3248434000000
                ],
                "x": [
                  "Q1/2019",
                  "Q2/2019",
                  "Q3/2019",
                  "Q4/2019",
                  "Q1/2020",
                  "Q2/2020",
                  "Q3/2020",
                  "Q4/2020",
                  "Q1/2021",
                  "Q2/2021"
                ],
                "type": "bar",
                "uid": "9d219565-22da-47d0-962b-92588576370a"
              },
              {
                "opacity": 0.75,
                "name": "Lợi nhuận sau thuế",
                "y": [
                  1365889000000,
                  1532743000000,
                  1549212000000,
                  1549241000000,
                  1537053000000,
                  1521655000000,
                  2074572000000,
                  2549543000000,
                  2483401000000,
                  2588235000000
                ],
                "x": [
                  "Q1/2019",
                  "Q2/2019",
                  "Q3/2019",
                  "Q4/2019",
                  "Q1/2020",
                  "Q2/2020",
                  "Q3/2020",
                  "Q4/2020",
                  "Q1/2021",
                  "Q2/2021"
                ],
                "type": "bar",
                "uid": "752f3a73-42ed-493a-96ae-b514824e6140"
              }
            ],
            "_config": {
              "plotlyServerURL": "https://plot.ly"
            },
            "_py2js_restyle": {},
            "_view_module_version": "^1.4.0",
            "_last_layout_edit_id": 0,
            "_js2py_traceDeltas": {}
          }
        },
        "10991b063613422f88f9893d5957e6dd": {
          "model_module": "@jupyter-widgets/base",
          "model_name": "LayoutModel",
          "model_module_version": "1.2.0",
          "state": {
            "_view_name": "LayoutView",
            "grid_template_rows": null,
            "right": null,
            "justify_content": null,
            "_view_module": "@jupyter-widgets/base",
            "overflow": null,
            "_model_module_version": "1.2.0",
            "_view_count": null,
            "flex_flow": null,
            "width": null,
            "min_width": null,
            "border": null,
            "align_items": null,
            "bottom": null,
            "_model_module": "@jupyter-widgets/base",
            "top": null,
            "grid_column": null,
            "overflow_y": null,
            "overflow_x": null,
            "grid_auto_flow": null,
            "grid_area": null,
            "grid_template_columns": null,
            "flex": null,
            "_model_name": "LayoutModel",
            "justify_items": null,
            "grid_row": null,
            "max_height": null,
            "align_content": null,
            "visibility": null,
            "align_self": null,
            "height": null,
            "min_height": null,
            "padding": null,
            "grid_auto_rows": null,
            "grid_gap": null,
            "max_width": null,
            "order": null,
            "_view_module_version": "1.2.0",
            "grid_template_areas": null,
            "object_position": null,
            "object_fit": null,
            "grid_auto_columns": null,
            "margin": null,
            "display": null,
            "left": null
          }
        }
      }
    }
  },
  "cells": [
    {
      "cell_type": "code",
      "metadata": {
        "id": "Co-ZldwaDbnS"
      },
      "source": [
        "import pandas as pd\n",
        "import numpy as np\n",
        "\n",
        "import matplotlib.pyplot as plt\n",
        "import seaborn as sns\n",
        "import plotly.graph_objects as go\n",
        "from plotly.offline import iplot, init_notebook_mode\n",
        "import plotly.express as px\n",
        "import ipywidgets\n",
        "from ipywidgets import widgets\n",
        "\n",
        "import datetime as dt\n"
      ],
      "execution_count": null,
      "outputs": []
    },
    {
      "cell_type": "code",
      "metadata": {
        "id": "bhWBLVNDDbnX"
      },
      "source": [
        "ACB = pd.read_excel(\"DATA FINAL.xlsx\", sheet_name= \"ACB\")\n",
        "SCB = pd.read_excel(\"DATA FINAL.xlsx\", sheet_name= \"SCB\")\n",
        "BID = pd.read_excel(\"DATA FINAL.xlsx\", sheet_name= \"BIDV\")\n",
        "TPB = pd.read_excel(\"DATA FINAL.xlsx\", sheet_name= \"TPB\")\n",
        "VCB = pd.read_excel(\"DATA FINAL.xlsx\", sheet_name= \"VCB\")\n",
        "VTB = pd.read_excel(\"DATA FINAL.xlsx\", sheet_name= \"VTB\")\n"
      ],
      "execution_count": null,
      "outputs": []
    },
    {
      "cell_type": "markdown",
      "metadata": {
        "id": "qaiC2mpwWDzf"
      },
      "source": [
        "**TĂNG TRƯỞNG TÍN DỤNG**"
      ]
    },
    {
      "cell_type": "code",
      "metadata": {
        "id": "8hYY1kelWDzh"
      },
      "source": [
        "acb_cg= ACB.iloc[14, 2:]\n",
        "scb_cg= SCB.iloc[14, 2:]\n",
        "bid_cg= BID.iloc[14, 2:]\n",
        "tpb_cg= TPB.iloc[14, 2:]\n",
        "vcb_cg= VCB.iloc[14, 2:]\n",
        "vtb_cg= VTB.iloc[14, 2:]"
      ],
      "execution_count": null,
      "outputs": []
    },
    {
      "cell_type": "code",
      "metadata": {
        "colab": {
          "base_uri": "https://localhost:8080/",
          "height": 546
        },
        "id": "5DzyJOfpWDzi",
        "outputId": "17aa4748-43ea-46ab-cedb-a3417481b6f2"
      },
      "source": [
        "acb_cg.plot.line(figsize=(18,8),label =\"ACB\")\n",
        "scb_cg.plot.line(figsize=(18,8),label =\"SCB\")\n",
        "bid_cg.plot.line(figsize=(18,8),label =\"BIDV\")\n",
        "tpb_cg.plot.line(figsize=(18,8),label =\"TPB\")\n",
        "vcb_cg.plot.line(figsize=(18,8),label =\"VCB\")\n",
        "vtb_cg.plot.line(figsize=(18,8),label =\"VTB\")\n",
        "plt.legend(loc = \"upper left\", shadow = \"True\", ncol = 2, borderpad = 1.5)\n",
        "plt.title(\"Tăng trưởng tín dụng\",size=20)\n",
        "plt.xlabel(\"Quý\",size = 20)\n",
        "plt.ylabel(\"Phần trăm\",size = 20)"
      ],
      "execution_count": null,
      "outputs": [
        {
          "output_type": "execute_result",
          "data": {
            "text/plain": [
              "Text(0, 0.5, 'Phần trăm')"
            ]
          },
          "metadata": {},
          "execution_count": 4
        },
        {
          "output_type": "display_data",
          "data": {
            "image/png": "[encoded data removed]",
            "text/plain": [
              "<Figure size 1296x576 with 1 Axes>"
            ]
          },
          "metadata": {
            "needs_background": "light"
          }
        }
      ]
    },
    {
      "cell_type": "markdown",
      "metadata": {
        "id": "HrsL6tKRt1BU"
      },
      "source": []
    },
    {
      "cell_type": "markdown",
      "metadata": {
        "id": "OiNpJtk3Dutk"
      },
      "source": [
        "\n",
        "\n",
        "**TỶ LỆ THANH KHOẢN**"
      ]
    },
    {
      "cell_type": "code",
      "metadata": {
        "id": "j5hd7CoOEBg9"
      },
      "source": [
        "a=ACB.iloc[2, 2:]\n",
        "v=VCB.iloc[2, 2:]\n",
        "s=SCB.iloc[2, 2:]\n",
        "vt=VTB.iloc[2, 2:]\n",
        "t=TPB.iloc[2, 2:]\n",
        "b=BID.iloc[2, 2:]"
      ],
      "execution_count": null,
      "outputs": []
    },
    {
      "cell_type": "code",
      "metadata": {
        "colab": {
          "base_uri": "https://localhost:8080/",
          "height": 542
        },
        "id": "50qXZ3LXEIV0",
        "outputId": "6f35dc40-4197-4988-9458-10be76bd843a"
      },
      "source": [
        "ax=pd.concat([a,v,s,v,vt,t,b])\n",
        "Quarter= ['Q1/2019', 'Q2/2019', 'Q3/2019', 'Q4/2019', 'Q1/2020', 'Q2/2020', 'Q3/2020', 'Q4/2020', 'Q1/2021', 'Q2/2021']\n",
        "fig = go.Figure()\n",
        "fig.add_trace(go.Scatter(x=Quarter, y=a,\n",
        "                    mode='lines+markers',\n",
        "                    name='ACB'))\n",
        "fig.add_trace(go.Scatter(x=Quarter, y=b,\n",
        "                    mode='lines+markers',\n",
        "                    name='BIDV'))\n",
        "fig.add_trace(go.Scatter(x=Quarter, y=v,\n",
        "                    mode='lines+markers',\n",
        "                    name='VCB'))\n",
        "fig.add_trace(go.Scatter(x=Quarter, y=vt,\n",
        "                    mode='lines+markers',\n",
        "                    name='VTB'))\n",
        "fig.add_trace(go.Scatter(x=Quarter, y=s,\n",
        "                    mode='lines+markers',\n",
        "                    name='SCB'))\n",
        "fig.add_trace(go.Scatter(x=Quarter, y=t,\n",
        "                    mode='lines+markers',\n",
        "                    name='TPB'))\n",
        "fig.update_layout(title='Tỷ lệ thanh khoản của các ngân hàng qua các quý từ 2019-2021',yaxis_title='Tỷ lệ thanh khoản',\n",
        "                   xaxis_title='Qúy 2019 - Qúy2021',barmode='group')\n",
        "fig.show()"
      ],
      "execution_count": null,
      "outputs": [
        {
          "output_type": "display_data",
          "data": {
            "text/html": [
              "<html>\n",
              "<head><meta charset=\"utf-8\" /></head>\n",
              "<body>\n",
              "    <div>\n",
              "            <script src=\"https://cdnjs.cloudflare.com/ajax/libs/mathjax/2.7.5/MathJax.js?config=TeX-AMS-MML_SVG\"></script><script type=\"text/javascript\">if (window.MathJax) {MathJax.Hub.Config({SVG: {font: \"STIX-Web\"}});}</script>\n",
              "                <script type=\"text/javascript\">window.PlotlyConfig = {MathJaxConfig: 'local'};</script>\n",
              "        <script src=\"https://cdn.plot.ly/plotly-latest.min.js\"></script>    \n",
              "            <div id=\"7a5da8aa-ba6e-4677-98c2-3de8e937e5ac\" class=\"plotly-graph-div\" style=\"height:525px; width:100%;\"></div>\n",
              "            <script type=\"text/javascript\">\n",
              "                \n",
              "                    window.PLOTLYENV=window.PLOTLYENV || {};\n",
              "                    \n",
              "                if (document.getElementById(\"7a5da8aa-ba6e-4677-98c2-3de8e937e5ac\")) {\n",
              "                    Plotly.newPlot(\n",
              "                        '7a5da8aa-ba6e-4677-98c2-3de8e937e5ac',\n",
              "                        [{\"mode\": \"lines+markers\", \"name\": \"ACB\", \"type\": \"scatter\", \"x\": [\"Q1/2019\", \"Q2/2019\", \"Q3/2019\", \"Q4/2019\", \"Q1/2020\", \"Q2/2020\", \"Q3/2020\", \"Q4/2020\", \"Q1/2021\", \"Q2/2021\"], \"y\": [1.037598525, 1.04209561, 1.044232157, 1.046749836, 1.05352757, 1.058395325, 1.058697632, 1.059460083, 1.06471329, 1.06866026]}, {\"mode\": \"lines+markers\", \"name\": \"BIDV\", \"type\": \"scatter\", \"x\": [\"Q1/2019\", \"Q2/2019\", \"Q3/2019\", \"Q4/2019\", \"Q1/2020\", \"Q2/2020\", \"Q3/2020\", \"Q4/2020\", \"Q1/2021\", \"Q2/2021\"], \"y\": [1.013556601, 1.012658964, 1.014221055, 1.060716166, 1.021099267, 1.020929369, 1.017868051, 1.019776057, 1.069953507, 1.040216642]}, {\"mode\": \"lines+markers\", \"name\": \"VCB\", \"type\": \"scatter\", \"x\": [\"Q1/2019\", \"Q2/2019\", \"Q3/2019\", \"Q4/2019\", \"Q1/2020\", \"Q2/2020\", \"Q3/2020\", \"Q4/2020\", \"Q1/2021\", \"Q2/2021\"], \"y\": [1.040411374, 1.040641736, 1.048818158, 1.047164264, 1.052647493, 1.054969142, 1.054802569, 1.054234703, 1.05615288, 1.059861802]}, {\"mode\": \"lines+markers\", \"name\": \"VTB\", \"type\": \"scatter\", \"x\": [\"Q1/2019\", \"Q2/2019\", \"Q3/2019\", \"Q4/2019\", \"Q1/2020\", \"Q2/2020\", \"Q3/2020\", \"Q4/2020\", \"Q1/2021\", \"Q2/2021\"], \"y\": [1.019489673, 1.020521874, 1.014897988, 1.026024411, 1.021185461, 1.027640873, 1.028498706, 1.029774341, 1.030274119, 1.026031656]}, {\"mode\": \"lines+markers\", \"name\": \"SCB\", \"type\": \"scatter\", \"x\": [\"Q1/2019\", \"Q2/2019\", \"Q3/2019\", \"Q4/2019\", \"Q1/2020\", \"Q2/2020\", \"Q3/2020\", \"Q4/2020\", \"Q1/2021\", \"Q2/2021\"], \"y\": [0.9300459213, 0.934772675, 0.9399265185, 0.9420658214, 1.651259196, 0.9538034999, 0.9575022126, 0.9624722237, 0.969326684, 0.9768864353]}, {\"mode\": \"lines+markers\", \"name\": \"TPB\", \"type\": \"scatter\", \"x\": [\"Q1/2019\", \"Q2/2019\", \"Q3/2019\", \"Q4/2019\", \"Q1/2020\", \"Q2/2020\", \"Q3/2020\", \"Q4/2020\", \"Q1/2021\", \"Q2/2021\"], \"y\": [1.127734734, 1.014895393, 0.9916218451, 0.9963296985, 1.133557945, 1.115359767, 1.093187557, 1.131991913, 1.002910558, 1.00376254]}],\n",
              "                        {\"barmode\": \"group\", \"template\": {\"data\": {\"bar\": [{\"error_x\": {\"color\": \"#2a3f5f\"}, \"error_y\": {\"color\": \"#2a3f5f\"}, \"marker\": {\"line\": {\"color\": \"#E5ECF6\", \"width\": 0.5}}, \"type\": \"bar\"}], \"barpolar\": [{\"marker\": {\"line\": {\"color\": \"#E5ECF6\", \"width\": 0.5}}, \"type\": \"barpolar\"}], \"carpet\": [{\"aaxis\": {\"endlinecolor\": \"#2a3f5f\", \"gridcolor\": \"white\", \"linecolor\": \"white\", \"minorgridcolor\": \"white\", \"startlinecolor\": \"#2a3f5f\"}, \"baxis\": {\"endlinecolor\": \"#2a3f5f\", \"gridcolor\": \"white\", \"linecolor\": \"white\", \"minorgridcolor\": \"white\", \"startlinecolor\": \"#2a3f5f\"}, \"type\": \"carpet\"}], \"choropleth\": [{\"colorbar\": {\"outlinewidth\": 0, \"ticks\": \"\"}, \"type\": \"choropleth\"}], \"contour\": [{\"colorbar\": {\"outlinewidth\": 0, \"ticks\": \"\"}, \"colorscale\": [[0.0, \"#0d0887\"], [0.1111111111111111, \"#46039f\"], [0.2222222222222222, \"#7201a8\"], [0.3333333333333333, \"#9c179e\"], [0.4444444444444444, \"#bd3786\"], [0.5555555555555556, \"#d8576b\"], [0.6666666666666666, \"#ed7953\"], [0.7777777777777778, \"#fb9f3a\"], [0.8888888888888888, \"#fdca26\"], [1.0, \"#f0f921\"]], \"type\": \"contour\"}], \"contourcarpet\": [{\"colorbar\": {\"outlinewidth\": 0, \"ticks\": \"\"}, \"type\": \"contourcarpet\"}], \"heatmap\": [{\"colorbar\": {\"outlinewidth\": 0, \"ticks\": \"\"}, \"colorscale\": [[0.0, \"#0d0887\"], [0.1111111111111111, \"#46039f\"], [0.2222222222222222, \"#7201a8\"], [0.3333333333333333, \"#9c179e\"], [0.4444444444444444, \"#bd3786\"], [0.5555555555555556, \"#d8576b\"], [0.6666666666666666, \"#ed7953\"], [0.7777777777777778, \"#fb9f3a\"], [0.8888888888888888, \"#fdca26\"], [1.0, \"#f0f921\"]], \"type\": \"heatmap\"}], \"heatmapgl\": [{\"colorbar\": {\"outlinewidth\": 0, \"ticks\": \"\"}, \"colorscale\": [[0.0, \"#0d0887\"], [0.1111111111111111, \"#46039f\"], [0.2222222222222222, \"#7201a8\"], [0.3333333333333333, \"#9c179e\"], [0.4444444444444444, \"#bd3786\"], [0.5555555555555556, \"#d8576b\"], [0.6666666666666666, \"#ed7953\"], [0.7777777777777778, \"#fb9f3a\"], [0.8888888888888888, \"#fdca26\"], [1.0, \"#f0f921\"]], \"type\": \"heatmapgl\"}], \"histogram\": [{\"marker\": {\"colorbar\": {\"outlinewidth\": 0, \"ticks\": \"\"}}, \"type\": \"histogram\"}], \"histogram2d\": [{\"colorbar\": {\"outlinewidth\": 0, \"ticks\": \"\"}, \"colorscale\": [[0.0, \"#0d0887\"], [0.1111111111111111, \"#46039f\"], [0.2222222222222222, \"#7201a8\"], [0.3333333333333333, \"#9c179e\"], [0.4444444444444444, \"#bd3786\"], [0.5555555555555556, \"#d8576b\"], [0.6666666666666666, \"#ed7953\"], [0.7777777777777778, \"#fb9f3a\"], [0.8888888888888888, \"#fdca26\"], [1.0, \"#f0f921\"]], \"type\": \"histogram2d\"}], \"histogram2dcontour\": [{\"colorbar\": {\"outlinewidth\": 0, \"ticks\": \"\"}, \"colorscale\": [[0.0, \"#0d0887\"], [0.1111111111111111, \"#46039f\"], [0.2222222222222222, \"#7201a8\"], [0.3333333333333333, \"#9c179e\"], [0.4444444444444444, \"#bd3786\"], [0.5555555555555556, \"#d8576b\"], [0.6666666666666666, \"#ed7953\"], [0.7777777777777778, \"#fb9f3a\"], [0.8888888888888888, \"#fdca26\"], [1.0, \"#f0f921\"]], \"type\": \"histogram2dcontour\"}], \"mesh3d\": [{\"colorbar\": {\"outlinewidth\": 0, \"ticks\": \"\"}, \"type\": \"mesh3d\"}], \"parcoords\": [{\"line\": {\"colorbar\": {\"outlinewidth\": 0, \"ticks\": \"\"}}, \"type\": \"parcoords\"}], \"pie\": [{\"automargin\": true, \"type\": \"pie\"}], \"scatter\": [{\"marker\": {\"colorbar\": {\"outlinewidth\": 0, \"ticks\": \"\"}}, \"type\": \"scatter\"}], \"scatter3d\": [{\"line\": {\"colorbar\": {\"outlinewidth\": 0, \"ticks\": \"\"}}, \"marker\": {\"colorbar\": {\"outlinewidth\": 0, \"ticks\": \"\"}}, \"type\": \"scatter3d\"}], \"scattercarpet\": [{\"marker\": {\"colorbar\": {\"outlinewidth\": 0, \"ticks\": \"\"}}, \"type\": \"scattercarpet\"}], \"scattergeo\": [{\"marker\": {\"colorbar\": {\"outlinewidth\": 0, \"ticks\": \"\"}}, \"type\": \"scattergeo\"}], \"scattergl\": [{\"marker\": {\"colorbar\": {\"outlinewidth\": 0, \"ticks\": \"\"}}, \"type\": \"scattergl\"}], \"scattermapbox\": [{\"marker\": {\"colorbar\": {\"outlinewidth\": 0, \"ticks\": \"\"}}, \"type\": \"scattermapbox\"}], \"scatterpolar\": [{\"marker\": {\"colorbar\": {\"outlinewidth\": 0, \"ticks\": \"\"}}, \"type\": \"scatterpolar\"}], \"scatterpolargl\": [{\"marker\": {\"colorbar\": {\"outlinewidth\": 0, \"ticks\": \"\"}}, \"type\": \"scatterpolargl\"}], \"scatterternary\": [{\"marker\": {\"colorbar\": {\"outlinewidth\": 0, \"ticks\": \"\"}}, \"type\": \"scatterternary\"}], \"surface\": [{\"colorbar\": {\"outlinewidth\": 0, \"ticks\": \"\"}, \"colorscale\": [[0.0, \"#0d0887\"], [0.1111111111111111, \"#46039f\"], [0.2222222222222222, \"#7201a8\"], [0.3333333333333333, \"#9c179e\"], [0.4444444444444444, \"#bd3786\"], [0.5555555555555556, \"#d8576b\"], [0.6666666666666666, \"#ed7953\"], [0.7777777777777778, \"#fb9f3a\"], [0.8888888888888888, \"#fdca26\"], [1.0, \"#f0f921\"]], \"type\": \"surface\"}], \"table\": [{\"cells\": {\"fill\": {\"color\": \"#EBF0F8\"}, \"line\": {\"color\": \"white\"}}, \"header\": {\"fill\": {\"color\": \"#C8D4E3\"}, \"line\": {\"color\": \"white\"}}, \"type\": \"table\"}]}, \"layout\": {\"annotationdefaults\": {\"arrowcolor\": \"#2a3f5f\", \"arrowhead\": 0, \"arrowwidth\": 1}, \"coloraxis\": {\"colorbar\": {\"outlinewidth\": 0, \"ticks\": \"\"}}, \"colorscale\": {\"diverging\": [[0, \"#8e0152\"], [0.1, \"#c51b7d\"], [0.2, \"#de77ae\"], [0.3, \"#f1b6da\"], [0.4, \"#fde0ef\"], [0.5, \"#f7f7f7\"], [0.6, \"#e6f5d0\"], [0.7, \"#b8e186\"], [0.8, \"#7fbc41\"], [0.9, \"#4d9221\"], [1, \"#276419\"]], \"sequential\": [[0.0, \"#0d0887\"], [0.1111111111111111, \"#46039f\"], [0.2222222222222222, \"#7201a8\"], [0.3333333333333333, \"#9c179e\"], [0.4444444444444444, \"#bd3786\"], [0.5555555555555556, \"#d8576b\"], [0.6666666666666666, \"#ed7953\"], [0.7777777777777778, \"#fb9f3a\"], [0.8888888888888888, \"#fdca26\"], [1.0, \"#f0f921\"]], \"sequentialminus\": [[0.0, \"#0d0887\"], [0.1111111111111111, \"#46039f\"], [0.2222222222222222, \"#7201a8\"], [0.3333333333333333, \"#9c179e\"], [0.4444444444444444, \"#bd3786\"], [0.5555555555555556, \"#d8576b\"], [0.6666666666666666, \"#ed7953\"], [0.7777777777777778, \"#fb9f3a\"], [0.8888888888888888, \"#fdca26\"], [1.0, \"#f0f921\"]]}, \"colorway\": [\"#636efa\", \"#EF553B\", \"#00cc96\", \"#ab63fa\", \"#FFA15A\", \"#19d3f3\", \"#FF6692\", \"#B6E880\", \"#FF97FF\", \"#FECB52\"], \"font\": {\"color\": \"#2a3f5f\"}, \"geo\": {\"bgcolor\": \"white\", \"lakecolor\": \"white\", \"landcolor\": \"#E5ECF6\", \"showlakes\": true, \"showland\": true, \"subunitcolor\": \"white\"}, \"hoverlabel\": {\"align\": \"left\"}, \"hovermode\": \"closest\", \"mapbox\": {\"style\": \"light\"}, \"paper_bgcolor\": \"white\", \"plot_bgcolor\": \"#E5ECF6\", \"polar\": {\"angularaxis\": {\"gridcolor\": \"white\", \"linecolor\": \"white\", \"ticks\": \"\"}, \"bgcolor\": \"#E5ECF6\", \"radialaxis\": {\"gridcolor\": \"white\", \"linecolor\": \"white\", \"ticks\": \"\"}}, \"scene\": {\"xaxis\": {\"backgroundcolor\": \"#E5ECF6\", \"gridcolor\": \"white\", \"gridwidth\": 2, \"linecolor\": \"white\", \"showbackground\": true, \"ticks\": \"\", \"zerolinecolor\": \"white\"}, \"yaxis\": {\"backgroundcolor\": \"#E5ECF6\", \"gridcolor\": \"white\", \"gridwidth\": 2, \"linecolor\": \"white\", \"showbackground\": true, \"ticks\": \"\", \"zerolinecolor\": \"white\"}, \"zaxis\": {\"backgroundcolor\": \"#E5ECF6\", \"gridcolor\": \"white\", \"gridwidth\": 2, \"linecolor\": \"white\", \"showbackground\": true, \"ticks\": \"\", \"zerolinecolor\": \"white\"}}, \"shapedefaults\": {\"line\": {\"color\": \"#2a3f5f\"}}, \"ternary\": {\"aaxis\": {\"gridcolor\": \"white\", \"linecolor\": \"white\", \"ticks\": \"\"}, \"baxis\": {\"gridcolor\": \"white\", \"linecolor\": \"white\", \"ticks\": \"\"}, \"bgcolor\": \"#E5ECF6\", \"caxis\": {\"gridcolor\": \"white\", \"linecolor\": \"white\", \"ticks\": \"\"}}, \"title\": {\"x\": 0.05}, \"xaxis\": {\"automargin\": true, \"gridcolor\": \"white\", \"linecolor\": \"white\", \"ticks\": \"\", \"title\": {\"standoff\": 15}, \"zerolinecolor\": \"white\", \"zerolinewidth\": 2}, \"yaxis\": {\"automargin\": true, \"gridcolor\": \"white\", \"linecolor\": \"white\", \"ticks\": \"\", \"title\": {\"standoff\": 15}, \"zerolinecolor\": \"white\", \"zerolinewidth\": 2}}}, \"title\": {\"text\": \"T\\u1ef7 l\\u1ec7 thanh kho\\u1ea3n c\\u1ee7a c\\u00e1c ng\\u00e2n h\\u00e0ng qua c\\u00e1c qu\\u00fd t\\u1eeb 2019-2021\"}, \"xaxis\": {\"title\": {\"text\": \"Q\\u00fay 2019 - Q\\u00fay2021\"}}, \"yaxis\": {\"title\": {\"text\": \"T\\u1ef7 l\\u1ec7 thanh kho\\u1ea3n\"}}},\n",
              "                        {\"responsive\": true}\n",
              "                    ).then(function(){\n",
              "                            \n",
              "var gd = document.getElementById('7a5da8aa-ba6e-4677-98c2-3de8e937e5ac');\n",
              "var x = new MutationObserver(function (mutations, observer) {{\n",
              "        var display = window.getComputedStyle(gd).display;\n",
              "        if (!display || display === 'none') {{\n",
              "            console.log([gd, 'removed!']);\n",
              "            Plotly.purge(gd);\n",
              "            observer.disconnect();\n",
              "        }}\n",
              "}});\n",
              "\n",
              "// Listen for the removal of the full notebook cells\n",
              "var notebookContainer = gd.closest('#notebook-container');\n",
              "if (notebookContainer) {{\n",
              "    x.observe(notebookContainer, {childList: true});\n",
              "}}\n",
              "\n",
              "// Listen for the clearing of the current output cell\n",
              "var outputEl = gd.closest('.output');\n",
              "if (outputEl) {{\n",
              "    x.observe(outputEl, {childList: true});\n",
              "}}\n",
              "\n",
              "                        })\n",
              "                };\n",
              "                \n",
              "            </script>\n",
              "        </div>\n",
              "</body>\n",
              "</html>"
            ]
          },
          "metadata": {}
        }
      ]
    },
    {
      "cell_type": "markdown",
      "metadata": {
        "id": "CsZ5-e0KE5qe"
      },
      "source": [
        "** **Tỷ suất tự tài trợ**"
      ]
    },
    {
      "cell_type": "code",
      "metadata": {
        "id": "71VZaXv5EWVd"
      },
      "source": [
        "a2=ACB.iloc[5, 2:]\n",
        "v2=VCB.iloc[5, 2:]\n",
        "s2=SCB.iloc[5, 2:]\n",
        "v2t=VTB.iloc[5, 2:]\n",
        "t2=TPB.iloc[5, 2:]\n",
        "b2=BID.iloc[5, 2:]"
      ],
      "execution_count": null,
      "outputs": []
    },
    {
      "cell_type": "markdown",
      "metadata": {
        "id": "8ujcJ9bTM82c"
      },
      "source": [
        "TỶ SUẤT TỰ TÀI TRỢ"
      ]
    },
    {
      "cell_type": "code",
      "metadata": {
        "colab": {
          "base_uri": "https://localhost:8080/",
          "height": 542
        },
        "id": "WtOn3IzqE5Ak",
        "outputId": "702ccc5b-7769-4bbd-e336-331e2b0b0f38"
      },
      "source": [
        "fig = go.Figure(data=[\n",
        "    go.Bar(name='ACB', x= Quarter, y= a2),\n",
        "    go.Bar(name='SCB', x= Quarter, y= s2),\n",
        "    go.Bar(name='BID', x= Quarter, y= b2),\n",
        "    go.Bar(name='TPB', x= Quarter, y= t2),\n",
        "    go.Bar(name='VCB', x= Quarter, y= v2),\n",
        "    go.Bar(name='VTB', x= Quarter, y= v2t),\n",
        "])\n",
        "\n",
        "fig.update_layout(title='Tỷ suất tự tài trợ của các ngân hàng qua các quý từ năm 2019-2021',\n",
        "                   yaxis_title='Tỷ suất tự tài trợ',\n",
        "                   xaxis_title='Qúy 2019 - Qúy2021',barmode='stack')\n",
        "fig.show()"
      ],
      "execution_count": null,
      "outputs": [
        {
          "output_type": "display_data",
          "data": {
            "text/html": [
              "<html>\n",
              "<head><meta charset=\"utf-8\" /></head>\n",
              "<body>\n",
              "    <div>\n",
              "            <script src=\"https://cdnjs.cloudflare.com/ajax/libs/mathjax/2.7.5/MathJax.js?config=TeX-AMS-MML_SVG\"></script><script type=\"text/javascript\">if (window.MathJax) {MathJax.Hub.Config({SVG: {font: \"STIX-Web\"}});}</script>\n",
              "                <script type=\"text/javascript\">window.PlotlyConfig = {MathJaxConfig: 'local'};</script>\n",
              "        <script src=\"https://cdn.plot.ly/plotly-latest.min.js\"></script>    \n",
              "            <div id=\"1f5f3aa4-0386-478e-bb4c-e1bc833ae8c6\" class=\"plotly-graph-div\" style=\"height:525px; width:100%;\"></div>\n",
              "            <script type=\"text/javascript\">\n",
              "                \n",
              "                    window.PLOTLYENV=window.PLOTLYENV || {};\n",
              "                    \n",
              "                if (document.getElementById(\"1f5f3aa4-0386-478e-bb4c-e1bc833ae8c6\")) {\n",
              "                    Plotly.newPlot(\n",
              "                        '1f5f3aa4-0386-478e-bb4c-e1bc833ae8c6',\n",
              "                        [{\"name\": \"ACB\", \"type\": \"bar\", \"x\": [\"Q1/2019\", \"Q2/2019\", \"Q3/2019\", \"Q4/2019\", \"Q1/2020\", \"Q2/2020\", \"Q3/2020\", \"Q4/2020\", \"Q1/2021\", \"Q2/2021\"], \"y\": [0.0666565512, 0.06791425661, 0.07081538573, 0.07236365617, 0.07592324385, 0.07771048584, 0.07861277722, 0.07974299756, 0.08437840253, 0.0856828974]}, {\"name\": \"SCB\", \"type\": \"bar\", \"x\": [\"Q1/2019\", \"Q2/2019\", \"Q3/2019\", \"Q4/2019\", \"Q1/2020\", \"Q2/2020\", \"Q3/2020\", \"Q4/2020\", \"Q1/2021\", \"Q2/2021\"], \"y\": [0.05994178241, 0.05806176477, 0.05841812967, 0.05895669492, 0.06000426548, 0.05695749367, 0.05812833725, 0.05877809335, 0.05977526233, 0.06022152728]}, {\"name\": \"BID\", \"type\": \"bar\", \"x\": [\"Q1/2019\", \"Q2/2019\", \"Q3/2019\", \"Q4/2019\", \"Q1/2020\", \"Q2/2020\", \"Q3/2020\", \"Q4/2020\", \"Q1/2021\", \"Q2/2021\"], \"y\": [0.04218532625, 0.041129755, 0.04165641947, 0.05218846644, 0.05481805088, 0.05512590425, 0.05548466729, 0.05260072524, 0.05277051674, 0.0515100702]}, {\"name\": \"TPB\", \"type\": \"bar\", \"x\": [\"Q1/2019\", \"Q2/2019\", \"Q3/2019\", \"Q4/2019\", \"Q1/2020\", \"Q2/2020\", \"Q3/2020\", \"Q4/2020\", \"Q1/2021\", \"Q2/2021\"], \"y\": [0.08105003378, 0.07742364635, 0.07736771666, 0.07943671417, 0.0784842596, 0.07980330217, 0.07979925951, 0.08115908175, 0.08304234535, 0.08371902883]}, {\"name\": \"VCB\", \"type\": \"bar\", \"x\": [\"Q1/2019\", \"Q2/2019\", \"Q3/2019\", \"Q4/2019\", \"Q1/2020\", \"Q2/2020\", \"Q3/2020\", \"Q4/2020\", \"Q1/2021\", \"Q2/2021\"], \"y\": [0.06800494204, 0.06886812112, 0.07031671419, 0.07006100975, 0.07434606039, 0.07557653959, 0.07872978117, 0.07446827705, 0.07897605583, 0.08049441336]}, {\"name\": \"VTB\", \"type\": \"bar\", \"x\": [\"Q1/2019\", \"Q2/2019\", \"Q3/2019\", \"Q4/2019\", \"Q1/2020\", \"Q2/2020\", \"Q3/2020\", \"Q4/2020\", \"Q1/2021\", \"Q2/2021\"], \"y\": [0.06115024467, 0.06124132817, 0.06228417359, 0.06234384271, 0.0644592766, 0.06536162128, 0.06606578414, 0.06366144669, 0.06833196691, 0.06326418299]}],\n",
              "                        {\"barmode\": \"stack\", \"template\": {\"data\": {\"bar\": [{\"error_x\": {\"color\": \"#2a3f5f\"}, \"error_y\": {\"color\": \"#2a3f5f\"}, \"marker\": {\"line\": {\"color\": \"#E5ECF6\", \"width\": 0.5}}, \"type\": \"bar\"}], \"barpolar\": [{\"marker\": {\"line\": {\"color\": \"#E5ECF6\", \"width\": 0.5}}, \"type\": \"barpolar\"}], \"carpet\": [{\"aaxis\": {\"endlinecolor\": \"#2a3f5f\", \"gridcolor\": \"white\", \"linecolor\": \"white\", \"minorgridcolor\": \"white\", \"startlinecolor\": \"#2a3f5f\"}, \"baxis\": {\"endlinecolor\": \"#2a3f5f\", \"gridcolor\": \"white\", \"linecolor\": \"white\", \"minorgridcolor\": \"white\", \"startlinecolor\": \"#2a3f5f\"}, \"type\": \"carpet\"}], \"choropleth\": [{\"colorbar\": {\"outlinewidth\": 0, \"ticks\": \"\"}, \"type\": \"choropleth\"}], \"contour\": [{\"colorbar\": {\"outlinewidth\": 0, \"ticks\": \"\"}, \"colorscale\": [[0.0, \"#0d0887\"], [0.1111111111111111, \"#46039f\"], [0.2222222222222222, \"#7201a8\"], [0.3333333333333333, \"#9c179e\"], [0.4444444444444444, \"#bd3786\"], [0.5555555555555556, \"#d8576b\"], [0.6666666666666666, \"#ed7953\"], [0.7777777777777778, \"#fb9f3a\"], [0.8888888888888888, \"#fdca26\"], [1.0, \"#f0f921\"]], \"type\": \"contour\"}], \"contourcarpet\": [{\"colorbar\": {\"outlinewidth\": 0, \"ticks\": \"\"}, \"type\": \"contourcarpet\"}], \"heatmap\": [{\"colorbar\": {\"outlinewidth\": 0, \"ticks\": \"\"}, \"colorscale\": [[0.0, \"#0d0887\"], [0.1111111111111111, \"#46039f\"], [0.2222222222222222, \"#7201a8\"], [0.3333333333333333, \"#9c179e\"], [0.4444444444444444, \"#bd3786\"], [0.5555555555555556, \"#d8576b\"], [0.6666666666666666, \"#ed7953\"], [0.7777777777777778, \"#fb9f3a\"], [0.8888888888888888, \"#fdca26\"], [1.0, \"#f0f921\"]], \"type\": \"heatmap\"}], \"heatmapgl\": [{\"colorbar\": {\"outlinewidth\": 0, \"ticks\": \"\"}, \"colorscale\": [[0.0, \"#0d0887\"], [0.1111111111111111, \"#46039f\"], [0.2222222222222222, \"#7201a8\"], [0.3333333333333333, \"#9c179e\"], [0.4444444444444444, \"#bd3786\"], [0.5555555555555556, \"#d8576b\"], [0.6666666666666666, \"#ed7953\"], [0.7777777777777778, \"#fb9f3a\"], [0.8888888888888888, \"#fdca26\"], [1.0, \"#f0f921\"]], \"type\": \"heatmapgl\"}], \"histogram\": [{\"marker\": {\"colorbar\": {\"outlinewidth\": 0, \"ticks\": \"\"}}, \"type\": \"histogram\"}], \"histogram2d\": [{\"colorbar\": {\"outlinewidth\": 0, \"ticks\": \"\"}, \"colorscale\": [[0.0, \"#0d0887\"], [0.1111111111111111, \"#46039f\"], [0.2222222222222222, \"#7201a8\"], [0.3333333333333333, \"#9c179e\"], [0.4444444444444444, \"#bd3786\"], [0.5555555555555556, \"#d8576b\"], [0.6666666666666666, \"#ed7953\"], [0.7777777777777778, \"#fb9f3a\"], [0.8888888888888888, \"#fdca26\"], [1.0, \"#f0f921\"]], \"type\": \"histogram2d\"}], \"histogram2dcontour\": [{\"colorbar\": {\"outlinewidth\": 0, \"ticks\": \"\"}, \"colorscale\": [[0.0, \"#0d0887\"], [0.1111111111111111, \"#46039f\"], [0.2222222222222222, \"#7201a8\"], [0.3333333333333333, \"#9c179e\"], [0.4444444444444444, \"#bd3786\"], [0.5555555555555556, \"#d8576b\"], [0.6666666666666666, \"#ed7953\"], [0.7777777777777778, \"#fb9f3a\"], [0.8888888888888888, \"#fdca26\"], [1.0, \"#f0f921\"]], \"type\": \"histogram2dcontour\"}], \"mesh3d\": [{\"colorbar\": {\"outlinewidth\": 0, \"ticks\": \"\"}, \"type\": \"mesh3d\"}], \"parcoords\": [{\"line\": {\"colorbar\": {\"outlinewidth\": 0, \"ticks\": \"\"}}, \"type\": \"parcoords\"}], \"pie\": [{\"automargin\": true, \"type\": \"pie\"}], \"scatter\": [{\"marker\": {\"colorbar\": {\"outlinewidth\": 0, \"ticks\": \"\"}}, \"type\": \"scatter\"}], \"scatter3d\": [{\"line\": {\"colorbar\": {\"outlinewidth\": 0, \"ticks\": \"\"}}, \"marker\": {\"colorbar\": {\"outlinewidth\": 0, \"ticks\": \"\"}}, \"type\": \"scatter3d\"}], \"scattercarpet\": [{\"marker\": {\"colorbar\": {\"outlinewidth\": 0, \"ticks\": \"\"}}, \"type\": \"scattercarpet\"}], \"scattergeo\": [{\"marker\": {\"colorbar\": {\"outlinewidth\": 0, \"ticks\": \"\"}}, \"type\": \"scattergeo\"}], \"scattergl\": [{\"marker\": {\"colorbar\": {\"outlinewidth\": 0, \"ticks\": \"\"}}, \"type\": \"scattergl\"}], \"scattermapbox\": [{\"marker\": {\"colorbar\": {\"outlinewidth\": 0, \"ticks\": \"\"}}, \"type\": \"scattermapbox\"}], \"scatterpolar\": [{\"marker\": {\"colorbar\": {\"outlinewidth\": 0, \"ticks\": \"\"}}, \"type\": \"scatterpolar\"}], \"scatterpolargl\": [{\"marker\": {\"colorbar\": {\"outlinewidth\": 0, \"ticks\": \"\"}}, \"type\": \"scatterpolargl\"}], \"scatterternary\": [{\"marker\": {\"colorbar\": {\"outlinewidth\": 0, \"ticks\": \"\"}}, \"type\": \"scatterternary\"}], \"surface\": [{\"colorbar\": {\"outlinewidth\": 0, \"ticks\": \"\"}, \"colorscale\": [[0.0, \"#0d0887\"], [0.1111111111111111, \"#46039f\"], [0.2222222222222222, \"#7201a8\"], [0.3333333333333333, \"#9c179e\"], [0.4444444444444444, \"#bd3786\"], [0.5555555555555556, \"#d8576b\"], [0.6666666666666666, \"#ed7953\"], [0.7777777777777778, \"#fb9f3a\"], [0.8888888888888888, \"#fdca26\"], [1.0, \"#f0f921\"]], \"type\": \"surface\"}], \"table\": [{\"cells\": {\"fill\": {\"color\": \"#EBF0F8\"}, \"line\": {\"color\": \"white\"}}, \"header\": {\"fill\": {\"color\": \"#C8D4E3\"}, \"line\": {\"color\": \"white\"}}, \"type\": \"table\"}]}, \"layout\": {\"annotationdefaults\": {\"arrowcolor\": \"#2a3f5f\", \"arrowhead\": 0, \"arrowwidth\": 1}, \"coloraxis\": {\"colorbar\": {\"outlinewidth\": 0, \"ticks\": \"\"}}, \"colorscale\": {\"diverging\": [[0, \"#8e0152\"], [0.1, \"#c51b7d\"], [0.2, \"#de77ae\"], [0.3, \"#f1b6da\"], [0.4, \"#fde0ef\"], [0.5, \"#f7f7f7\"], [0.6, \"#e6f5d0\"], [0.7, \"#b8e186\"], [0.8, \"#7fbc41\"], [0.9, \"#4d9221\"], [1, \"#276419\"]], \"sequential\": [[0.0, \"#0d0887\"], [0.1111111111111111, \"#46039f\"], [0.2222222222222222, \"#7201a8\"], [0.3333333333333333, \"#9c179e\"], [0.4444444444444444, \"#bd3786\"], [0.5555555555555556, \"#d8576b\"], [0.6666666666666666, \"#ed7953\"], [0.7777777777777778, \"#fb9f3a\"], [0.8888888888888888, \"#fdca26\"], [1.0, \"#f0f921\"]], \"sequentialminus\": [[0.0, \"#0d0887\"], [0.1111111111111111, \"#46039f\"], [0.2222222222222222, \"#7201a8\"], [0.3333333333333333, \"#9c179e\"], [0.4444444444444444, \"#bd3786\"], [0.5555555555555556, \"#d8576b\"], [0.6666666666666666, \"#ed7953\"], [0.7777777777777778, \"#fb9f3a\"], [0.8888888888888888, \"#fdca26\"], [1.0, \"#f0f921\"]]}, \"colorway\": [\"#636efa\", \"#EF553B\", \"#00cc96\", \"#ab63fa\", \"#FFA15A\", \"#19d3f3\", \"#FF6692\", \"#B6E880\", \"#FF97FF\", \"#FECB52\"], \"font\": {\"color\": \"#2a3f5f\"}, \"geo\": {\"bgcolor\": \"white\", \"lakecolor\": \"white\", \"landcolor\": \"#E5ECF6\", \"showlakes\": true, \"showland\": true, \"subunitcolor\": \"white\"}, \"hoverlabel\": {\"align\": \"left\"}, \"hovermode\": \"closest\", \"mapbox\": {\"style\": \"light\"}, \"paper_bgcolor\": \"white\", \"plot_bgcolor\": \"#E5ECF6\", \"polar\": {\"angularaxis\": {\"gridcolor\": \"white\", \"linecolor\": \"white\", \"ticks\": \"\"}, \"bgcolor\": \"#E5ECF6\", \"radialaxis\": {\"gridcolor\": \"white\", \"linecolor\": \"white\", \"ticks\": \"\"}}, \"scene\": {\"xaxis\": {\"backgroundcolor\": \"#E5ECF6\", \"gridcolor\": \"white\", \"gridwidth\": 2, \"linecolor\": \"white\", \"showbackground\": true, \"ticks\": \"\", \"zerolinecolor\": \"white\"}, \"yaxis\": {\"backgroundcolor\": \"#E5ECF6\", \"gridcolor\": \"white\", \"gridwidth\": 2, \"linecolor\": \"white\", \"showbackground\": true, \"ticks\": \"\", \"zerolinecolor\": \"white\"}, \"zaxis\": {\"backgroundcolor\": \"#E5ECF6\", \"gridcolor\": \"white\", \"gridwidth\": 2, \"linecolor\": \"white\", \"showbackground\": true, \"ticks\": \"\", \"zerolinecolor\": \"white\"}}, \"shapedefaults\": {\"line\": {\"color\": \"#2a3f5f\"}}, \"ternary\": {\"aaxis\": {\"gridcolor\": \"white\", \"linecolor\": \"white\", \"ticks\": \"\"}, \"baxis\": {\"gridcolor\": \"white\", \"linecolor\": \"white\", \"ticks\": \"\"}, \"bgcolor\": \"#E5ECF6\", \"caxis\": {\"gridcolor\": \"white\", \"linecolor\": \"white\", \"ticks\": \"\"}}, \"title\": {\"x\": 0.05}, \"xaxis\": {\"automargin\": true, \"gridcolor\": \"white\", \"linecolor\": \"white\", \"ticks\": \"\", \"title\": {\"standoff\": 15}, \"zerolinecolor\": \"white\", \"zerolinewidth\": 2}, \"yaxis\": {\"automargin\": true, \"gridcolor\": \"white\", \"linecolor\": \"white\", \"ticks\": \"\", \"title\": {\"standoff\": 15}, \"zerolinecolor\": \"white\", \"zerolinewidth\": 2}}}, \"title\": {\"text\": \"T\\u1ef7 su\\u1ea5t t\\u1ef1 t\\u00e0i tr\\u1ee3 c\\u1ee7a c\\u00e1c ng\\u00e2n h\\u00e0ng qua c\\u00e1c qu\\u00fd t\\u1eeb n\\u0103m 2019-2021\"}, \"xaxis\": {\"title\": {\"text\": \"Q\\u00fay 2019 - Q\\u00fay2021\"}}, \"yaxis\": {\"title\": {\"text\": \"T\\u1ef7 su\\u1ea5t t\\u1ef1 t\\u00e0i tr\\u1ee3\"}}},\n",
              "                        {\"responsive\": true}\n",
              "                    ).then(function(){\n",
              "                            \n",
              "var gd = document.getElementById('1f5f3aa4-0386-478e-bb4c-e1bc833ae8c6');\n",
              "var x = new MutationObserver(function (mutations, observer) {{\n",
              "        var display = window.getComputedStyle(gd).display;\n",
              "        if (!display || display === 'none') {{\n",
              "            console.log([gd, 'removed!']);\n",
              "            Plotly.purge(gd);\n",
              "            observer.disconnect();\n",
              "        }}\n",
              "}});\n",
              "\n",
              "// Listen for the removal of the full notebook cells\n",
              "var notebookContainer = gd.closest('#notebook-container');\n",
              "if (notebookContainer) {{\n",
              "    x.observe(notebookContainer, {childList: true});\n",
              "}}\n",
              "\n",
              "// Listen for the clearing of the current output cell\n",
              "var outputEl = gd.closest('.output');\n",
              "if (outputEl) {{\n",
              "    x.observe(outputEl, {childList: true});\n",
              "}}\n",
              "\n",
              "                        })\n",
              "                };\n",
              "                \n",
              "            </script>\n",
              "        </div>\n",
              "</body>\n",
              "</html>"
            ]
          },
          "metadata": {}
        }
      ]
    },
    {
      "cell_type": "markdown",
      "metadata": {
        "id": "oetEkiJ2tSe-"
      },
      "source": [
        "# Tỷ lệ nợ xấu"
      ]
    },
    {
      "cell_type": "code",
      "metadata": {
        "id": "tTiVTNK8dWe5"
      },
      "source": [
        "#Non Performing Loan\n",
        "acb_npl= ACB.iloc[9, 2:]\n",
        "scb_npl= SCB.iloc[9, 2:]\n",
        "bid_npl= BID.iloc[9, 2:]\n",
        "tpb_npl= TPB.iloc[9, 2:]\n",
        "vcb_npl= VCB.iloc[9, 2:]\n",
        "vtb_npl= VTB.iloc[9, 2:]"
      ],
      "execution_count": null,
      "outputs": []
    },
    {
      "cell_type": "code",
      "metadata": {
        "id": "O9ixe2redbUA",
        "colab": {
          "base_uri": "https://localhost:8080/",
          "height": 698
        },
        "outputId": "bc5bf13a-94b2-4701-db0c-ae75103832db"
      },
      "source": [
        "chart1 = go.Line(x= Quarter, y= acb_npl, opacity=0.75, name='ACB')\n",
        "chart2 = go.Line(x= Quarter, y= scb_npl, opacity=0.75, name='SCB')\n",
        "chart3 = go.Line(x= Quarter, y= bid_npl, opacity=0.75, name='BIDV')\n",
        "chart4 = go.Line(x= Quarter, y= tpb_npl, opacity=0.75, name='TPB')\n",
        "chart5 = go.Line(x= Quarter, y= vcb_npl, opacity=0.75, name='VCB')\n",
        "chart6 = go.Line(x= Quarter, y= vtb_npl, opacity=0.75, name='VTB')\n",
        "c1 = go.FigureWidget(data=(chart1, chart2, chart3, chart4, chart5, chart6),\n",
        "                    layout=go.Layout(\n",
        "                        title=dict(\n",
        "                            text='Tỷ lệ nợ xấu của các ngân hàng qua các quý',\n",
        "                        ),\n",
        "                        barmode='group', yaxis_title='Ngàn tỷ', xaxis_title='Quý'\n",
        "                    ))\n",
        "c1.show()"
      ],
      "execution_count": null,
      "outputs": [
        {
          "output_type": "stream",
          "name": "stderr",
          "text": [
            "/usr/local/lib/python3.7/dist-packages/plotly/graph_objs/_deprecations.py:385: DeprecationWarning:\n",
            "\n",
            "plotly.graph_objs.Line is deprecated.\n",
            "Please replace it with one of the following more specific types\n",
            "  - plotly.graph_objs.scatter.Line\n",
            "  - plotly.graph_objs.layout.shape.Line\n",
            "  - etc.\n",
            "\n",
            "\n"
          ]
        },
        {
          "output_type": "display_data",
          "data": {
            "text/html": [
              "<html>\n",
              "<head><meta charset=\"utf-8\" /></head>\n",
              "<body>\n",
              "    <div>\n",
              "            <script src=\"https://cdnjs.cloudflare.com/ajax/libs/mathjax/2.7.5/MathJax.js?config=TeX-AMS-MML_SVG\"></script><script type=\"text/javascript\">if (window.MathJax) {MathJax.Hub.Config({SVG: {font: \"STIX-Web\"}});}</script>\n",
              "                <script type=\"text/javascript\">window.PlotlyConfig = {MathJaxConfig: 'local'};</script>\n",
              "        <script src=\"https://cdn.plot.ly/plotly-latest.min.js\"></script>    \n",
              "            <div id=\"c77cad46-cdc1-4ea5-bafd-9d2a370ef947\" class=\"plotly-graph-div\" style=\"height:525px; width:100%;\"></div>\n",
              "            <script type=\"text/javascript\">\n",
              "                \n",
              "                    window.PLOTLYENV=window.PLOTLYENV || {};\n",
              "                    \n",
              "                if (document.getElementById(\"c77cad46-cdc1-4ea5-bafd-9d2a370ef947\")) {\n",
              "                    Plotly.newPlot(\n",
              "                        'c77cad46-cdc1-4ea5-bafd-9d2a370ef947',\n",
              "                        [{\"name\": \"ACB\", \"opacity\": 0.75, \"type\": \"scatter\", \"uid\": \"75a4699c-420c-45ce-86cc-48aa788d5aa6\", \"x\": [\"Q1/2019\", \"Q2/2019\", \"Q3/2019\", \"Q4/2019\", \"Q1/2020\", \"Q2/2020\", \"Q3/2020\", \"Q4/2020\", \"Q1/2021\", \"Q2/2021\"], \"y\": [0.09995138365, 0.09992720951, 0.09955968129, 0.0999962542, 0.0999815272, 0.09977361494, 0.09968663291, 0.09984169151, 0.09981008526, 0.09990192551]}, {\"name\": \"SCB\", \"opacity\": 0.75, \"type\": \"scatter\", \"uid\": \"d48cd796-8cca-437e-a1b5-0d681d8c1222\", \"x\": [\"Q1/2019\", \"Q2/2019\", \"Q3/2019\", \"Q4/2019\", \"Q1/2020\", \"Q2/2020\", \"Q3/2020\", \"Q4/2020\", \"Q1/2021\", \"Q2/2021\"], \"y\": [0.001949939072, 0.001850290482, 0.001815971796, 0.001782895265, 0.001822465914, 0.001934119353, 0.001916652538, 0.001512499265, 0.001291613726, 0.001403724789]}, {\"name\": \"BIDV\", \"opacity\": 0.75, \"type\": \"scatter\", \"uid\": \"048c68aa-04c7-42a8-b86d-c1cccc812d94\", \"x\": [\"Q1/2019\", \"Q2/2019\", \"Q3/2019\", \"Q4/2019\", \"Q1/2020\", \"Q2/2020\", \"Q3/2020\", \"Q4/2020\", \"Q1/2021\", \"Q2/2021\"], \"y\": [0.001766599236, 0.002012022798, 0.002124727681, 0.001764264501, 0.001771540702, 0.002031084182, 0.002000954792, 0.001785323735, 0.001794611393, 0.00166782663]}, {\"name\": \"TPB\", \"opacity\": 0.75, \"type\": \"scatter\", \"uid\": \"87fe6fcf-f0f0-482b-b7be-a016ee19f844\", \"x\": [\"Q1/2019\", \"Q2/2019\", \"Q3/2019\", \"Q4/2019\", \"Q1/2020\", \"Q2/2020\", \"Q3/2020\", \"Q4/2020\", \"Q1/2021\", \"Q2/2021\"], \"y\": [0.001403867523, 0.001520926378, 0.001531462564, 0.001307809609, 0.001901543346, 0.001495546335, 0.001815906384, 0.001202907813, 0.001212028381, 0.001168622423]}, {\"name\": \"VCB\", \"opacity\": 0.75, \"type\": \"scatter\", \"uid\": \"6a7d54c0-32a2-4fe0-97cc-1024598baa7c\", \"x\": [\"Q1/2019\", \"Q2/2019\", \"Q3/2019\", \"Q4/2019\", \"Q1/2020\", \"Q2/2020\", \"Q3/2020\", \"Q4/2020\", \"Q1/2021\", \"Q2/2021\"], \"y\": [0.001040360439, 0.001044737041, 0.001098751527, 0.0007855524995, 0.0008367410047, 0.0008440149259, 0.001028249606, 0.000637425624, 0.0009050508593, 0.0007646420284]}, {\"name\": \"VTB\", \"opacity\": 0.75, \"type\": \"scatter\", \"uid\": \"ba12a77a-ad59-44a4-a669-436b3cb25de8\", \"x\": [\"Q1/2019\", \"Q2/2019\", \"Q3/2019\", \"Q4/2019\", \"Q1/2020\", \"Q2/2020\", \"Q3/2020\", \"Q4/2020\", \"Q1/2021\", \"Q2/2021\"], \"y\": [0.001888328447, 0.001491033903, 0.001593963643, 0.001171750859, 0.001857888363, 0.001719689723, 0.001903664371, 0.000949279718, 0.0008924687762, 0.001368440905]}],\n",
              "                        {\"barmode\": \"group\", \"template\": {\"data\": {\"bar\": [{\"error_x\": {\"color\": \"#2a3f5f\"}, \"error_y\": {\"color\": \"#2a3f5f\"}, \"marker\": {\"line\": {\"color\": \"#E5ECF6\", \"width\": 0.5}}, \"type\": \"bar\"}], \"barpolar\": [{\"marker\": {\"line\": {\"color\": \"#E5ECF6\", \"width\": 0.5}}, \"type\": \"barpolar\"}], \"carpet\": [{\"aaxis\": {\"endlinecolor\": \"#2a3f5f\", \"gridcolor\": \"white\", \"linecolor\": \"white\", \"minorgridcolor\": \"white\", \"startlinecolor\": \"#2a3f5f\"}, \"baxis\": {\"endlinecolor\": \"#2a3f5f\", \"gridcolor\": \"white\", \"linecolor\": \"white\", \"minorgridcolor\": \"white\", \"startlinecolor\": \"#2a3f5f\"}, \"type\": \"carpet\"}], \"choropleth\": [{\"colorbar\": {\"outlinewidth\": 0, \"ticks\": \"\"}, \"type\": \"choropleth\"}], \"contour\": [{\"colorbar\": {\"outlinewidth\": 0, \"ticks\": \"\"}, \"colorscale\": [[0.0, \"#0d0887\"], [0.1111111111111111, \"#46039f\"], [0.2222222222222222, \"#7201a8\"], [0.3333333333333333, \"#9c179e\"], [0.4444444444444444, \"#bd3786\"], [0.5555555555555556, \"#d8576b\"], [0.6666666666666666, \"#ed7953\"], [0.7777777777777778, \"#fb9f3a\"], [0.8888888888888888, \"#fdca26\"], [1.0, \"#f0f921\"]], \"type\": \"contour\"}], \"contourcarpet\": [{\"colorbar\": {\"outlinewidth\": 0, \"ticks\": \"\"}, \"type\": \"contourcarpet\"}], \"heatmap\": [{\"colorbar\": {\"outlinewidth\": 0, \"ticks\": \"\"}, \"colorscale\": [[0.0, \"#0d0887\"], [0.1111111111111111, \"#46039f\"], [0.2222222222222222, \"#7201a8\"], [0.3333333333333333, \"#9c179e\"], [0.4444444444444444, \"#bd3786\"], [0.5555555555555556, \"#d8576b\"], [0.6666666666666666, \"#ed7953\"], [0.7777777777777778, \"#fb9f3a\"], [0.8888888888888888, \"#fdca26\"], [1.0, \"#f0f921\"]], \"type\": \"heatmap\"}], \"heatmapgl\": [{\"colorbar\": {\"outlinewidth\": 0, \"ticks\": \"\"}, \"colorscale\": [[0.0, \"#0d0887\"], [0.1111111111111111, \"#46039f\"], [0.2222222222222222, \"#7201a8\"], [0.3333333333333333, \"#9c179e\"], [0.4444444444444444, \"#bd3786\"], [0.5555555555555556, \"#d8576b\"], [0.6666666666666666, \"#ed7953\"], [0.7777777777777778, \"#fb9f3a\"], [0.8888888888888888, \"#fdca26\"], [1.0, \"#f0f921\"]], \"type\": \"heatmapgl\"}], \"histogram\": [{\"marker\": {\"colorbar\": {\"outlinewidth\": 0, \"ticks\": \"\"}}, \"type\": \"histogram\"}], \"histogram2d\": [{\"colorbar\": {\"outlinewidth\": 0, \"ticks\": \"\"}, \"colorscale\": [[0.0, \"#0d0887\"], [0.1111111111111111, \"#46039f\"], [0.2222222222222222, \"#7201a8\"], [0.3333333333333333, \"#9c179e\"], [0.4444444444444444, \"#bd3786\"], [0.5555555555555556, \"#d8576b\"], [0.6666666666666666, \"#ed7953\"], [0.7777777777777778, \"#fb9f3a\"], [0.8888888888888888, \"#fdca26\"], [1.0, \"#f0f921\"]], \"type\": \"histogram2d\"}], \"histogram2dcontour\": [{\"colorbar\": {\"outlinewidth\": 0, \"ticks\": \"\"}, \"colorscale\": [[0.0, \"#0d0887\"], [0.1111111111111111, \"#46039f\"], [0.2222222222222222, \"#7201a8\"], [0.3333333333333333, \"#9c179e\"], [0.4444444444444444, \"#bd3786\"], [0.5555555555555556, \"#d8576b\"], [0.6666666666666666, \"#ed7953\"], [0.7777777777777778, \"#fb9f3a\"], [0.8888888888888888, \"#fdca26\"], [1.0, \"#f0f921\"]], \"type\": \"histogram2dcontour\"}], \"mesh3d\": [{\"colorbar\": {\"outlinewidth\": 0, \"ticks\": \"\"}, \"type\": \"mesh3d\"}], \"parcoords\": [{\"line\": {\"colorbar\": {\"outlinewidth\": 0, \"ticks\": \"\"}}, \"type\": \"parcoords\"}], \"pie\": [{\"automargin\": true, \"type\": \"pie\"}], \"scatter\": [{\"marker\": {\"colorbar\": {\"outlinewidth\": 0, \"ticks\": \"\"}}, \"type\": \"scatter\"}], \"scatter3d\": [{\"line\": {\"colorbar\": {\"outlinewidth\": 0, \"ticks\": \"\"}}, \"marker\": {\"colorbar\": {\"outlinewidth\": 0, \"ticks\": \"\"}}, \"type\": \"scatter3d\"}], \"scattercarpet\": [{\"marker\": {\"colorbar\": {\"outlinewidth\": 0, \"ticks\": \"\"}}, \"type\": \"scattercarpet\"}], \"scattergeo\": [{\"marker\": {\"colorbar\": {\"outlinewidth\": 0, \"ticks\": \"\"}}, \"type\": \"scattergeo\"}], \"scattergl\": [{\"marker\": {\"colorbar\": {\"outlinewidth\": 0, \"ticks\": \"\"}}, \"type\": \"scattergl\"}], \"scattermapbox\": [{\"marker\": {\"colorbar\": {\"outlinewidth\": 0, \"ticks\": \"\"}}, \"type\": \"scattermapbox\"}], \"scatterpolar\": [{\"marker\": {\"colorbar\": {\"outlinewidth\": 0, \"ticks\": \"\"}}, \"type\": \"scatterpolar\"}], \"scatterpolargl\": [{\"marker\": {\"colorbar\": {\"outlinewidth\": 0, \"ticks\": \"\"}}, \"type\": \"scatterpolargl\"}], \"scatterternary\": [{\"marker\": {\"colorbar\": {\"outlinewidth\": 0, \"ticks\": \"\"}}, \"type\": \"scatterternary\"}], \"surface\": [{\"colorbar\": {\"outlinewidth\": 0, \"ticks\": \"\"}, \"colorscale\": [[0.0, \"#0d0887\"], [0.1111111111111111, \"#46039f\"], [0.2222222222222222, \"#7201a8\"], [0.3333333333333333, \"#9c179e\"], [0.4444444444444444, \"#bd3786\"], [0.5555555555555556, \"#d8576b\"], [0.6666666666666666, \"#ed7953\"], [0.7777777777777778, \"#fb9f3a\"], [0.8888888888888888, \"#fdca26\"], [1.0, \"#f0f921\"]], \"type\": \"surface\"}], \"table\": [{\"cells\": {\"fill\": {\"color\": \"#EBF0F8\"}, \"line\": {\"color\": \"white\"}}, \"header\": {\"fill\": {\"color\": \"#C8D4E3\"}, \"line\": {\"color\": \"white\"}}, \"type\": \"table\"}]}, \"layout\": {\"annotationdefaults\": {\"arrowcolor\": \"#2a3f5f\", \"arrowhead\": 0, \"arrowwidth\": 1}, \"coloraxis\": {\"colorbar\": {\"outlinewidth\": 0, \"ticks\": \"\"}}, \"colorscale\": {\"diverging\": [[0, \"#8e0152\"], [0.1, \"#c51b7d\"], [0.2, \"#de77ae\"], [0.3, \"#f1b6da\"], [0.4, \"#fde0ef\"], [0.5, \"#f7f7f7\"], [0.6, \"#e6f5d0\"], [0.7, \"#b8e186\"], [0.8, \"#7fbc41\"], [0.9, \"#4d9221\"], [1, \"#276419\"]], \"sequential\": [[0.0, \"#0d0887\"], [0.1111111111111111, \"#46039f\"], [0.2222222222222222, \"#7201a8\"], [0.3333333333333333, \"#9c179e\"], [0.4444444444444444, \"#bd3786\"], [0.5555555555555556, \"#d8576b\"], [0.6666666666666666, \"#ed7953\"], [0.7777777777777778, \"#fb9f3a\"], [0.8888888888888888, \"#fdca26\"], [1.0, \"#f0f921\"]], \"sequentialminus\": [[0.0, \"#0d0887\"], [0.1111111111111111, \"#46039f\"], [0.2222222222222222, \"#7201a8\"], [0.3333333333333333, \"#9c179e\"], [0.4444444444444444, \"#bd3786\"], [0.5555555555555556, \"#d8576b\"], [0.6666666666666666, \"#ed7953\"], [0.7777777777777778, \"#fb9f3a\"], [0.8888888888888888, \"#fdca26\"], [1.0, \"#f0f921\"]]}, \"colorway\": [\"#636efa\", \"#EF553B\", \"#00cc96\", \"#ab63fa\", \"#FFA15A\", \"#19d3f3\", \"#FF6692\", \"#B6E880\", \"#FF97FF\", \"#FECB52\"], \"font\": {\"color\": \"#2a3f5f\"}, \"geo\": {\"bgcolor\": \"white\", \"lakecolor\": \"white\", \"landcolor\": \"#E5ECF6\", \"showlakes\": true, \"showland\": true, \"subunitcolor\": \"white\"}, \"hoverlabel\": {\"align\": \"left\"}, \"hovermode\": \"closest\", \"mapbox\": {\"style\": \"light\"}, \"paper_bgcolor\": \"white\", \"plot_bgcolor\": \"#E5ECF6\", \"polar\": {\"angularaxis\": {\"gridcolor\": \"white\", \"linecolor\": \"white\", \"ticks\": \"\"}, \"bgcolor\": \"#E5ECF6\", \"radialaxis\": {\"gridcolor\": \"white\", \"linecolor\": \"white\", \"ticks\": \"\"}}, \"scene\": {\"xaxis\": {\"backgroundcolor\": \"#E5ECF6\", \"gridcolor\": \"white\", \"gridwidth\": 2, \"linecolor\": \"white\", \"showbackground\": true, \"ticks\": \"\", \"zerolinecolor\": \"white\"}, \"yaxis\": {\"backgroundcolor\": \"#E5ECF6\", \"gridcolor\": \"white\", \"gridwidth\": 2, \"linecolor\": \"white\", \"showbackground\": true, \"ticks\": \"\", \"zerolinecolor\": \"white\"}, \"zaxis\": {\"backgroundcolor\": \"#E5ECF6\", \"gridcolor\": \"white\", \"gridwidth\": 2, \"linecolor\": \"white\", \"showbackground\": true, \"ticks\": \"\", \"zerolinecolor\": \"white\"}}, \"shapedefaults\": {\"line\": {\"color\": \"#2a3f5f\"}}, \"ternary\": {\"aaxis\": {\"gridcolor\": \"white\", \"linecolor\": \"white\", \"ticks\": \"\"}, \"baxis\": {\"gridcolor\": \"white\", \"linecolor\": \"white\", \"ticks\": \"\"}, \"bgcolor\": \"#E5ECF6\", \"caxis\": {\"gridcolor\": \"white\", \"linecolor\": \"white\", \"ticks\": \"\"}}, \"title\": {\"x\": 0.05}, \"xaxis\": {\"automargin\": true, \"gridcolor\": \"white\", \"linecolor\": \"white\", \"ticks\": \"\", \"title\": {\"standoff\": 15}, \"zerolinecolor\": \"white\", \"zerolinewidth\": 2}, \"yaxis\": {\"automargin\": true, \"gridcolor\": \"white\", \"linecolor\": \"white\", \"ticks\": \"\", \"title\": {\"standoff\": 15}, \"zerolinecolor\": \"white\", \"zerolinewidth\": 2}}}, \"title\": {\"text\": \"T\\u1ef7 l\\u1ec7 n\\u1ee3 x\\u1ea5u c\\u1ee7a c\\u00e1c ng\\u00e2n h\\u00e0ng qua c\\u00e1c qu\\u00fd\"}, \"xaxis\": {\"title\": {\"text\": \"Qu\\u00fd\"}}, \"yaxis\": {\"title\": {\"text\": \"Ng\\u00e0n t\\u1ef7\"}}},\n",
              "                        {\"responsive\": true}\n",
              "                    ).then(function(){\n",
              "                            \n",
              "var gd = document.getElementById('c77cad46-cdc1-4ea5-bafd-9d2a370ef947');\n",
              "var x = new MutationObserver(function (mutations, observer) {{\n",
              "        var display = window.getComputedStyle(gd).display;\n",
              "        if (!display || display === 'none') {{\n",
              "            console.log([gd, 'removed!']);\n",
              "            Plotly.purge(gd);\n",
              "            observer.disconnect();\n",
              "        }}\n",
              "}});\n",
              "\n",
              "// Listen for the removal of the full notebook cells\n",
              "var notebookContainer = gd.closest('#notebook-container');\n",
              "if (notebookContainer) {{\n",
              "    x.observe(notebookContainer, {childList: true});\n",
              "}}\n",
              "\n",
              "// Listen for the clearing of the current output cell\n",
              "var outputEl = gd.closest('.output');\n",
              "if (outputEl) {{\n",
              "    x.observe(outputEl, {childList: true});\n",
              "}}\n",
              "\n",
              "                        })\n",
              "                };\n",
              "                \n",
              "            </script>\n",
              "        </div>\n",
              "</body>\n",
              "</html>"
            ]
          },
          "metadata": {}
        }
      ]
    },
    {
      "cell_type": "markdown",
      "metadata": {
        "id": "hEeUy9HxNkay"
      },
      "source": [
        "**Tổng thu nhập***"
      ]
    },
    {
      "cell_type": "code",
      "metadata": {
        "id": "OjEg5yojFPXh"
      },
      "source": [
        "a3=ACB.iloc[18, 2:]\n",
        "v3=VCB.iloc[18, 2:]\n",
        "s3=SCB.iloc[18, 2:]\n",
        "vt3=VTB.iloc[18, 2:]\n",
        "t3=TPB.iloc[18, 2:]\n",
        "b3=BID.iloc[18, 2:]"
      ],
      "execution_count": null,
      "outputs": []
    },
    {
      "cell_type": "code",
      "metadata": {
        "colab": {
          "base_uri": "https://localhost:8080/",
          "height": 542
        },
        "id": "_vLkoUMnNFWp",
        "outputId": "efa68f03-fe34-4ff4-83e3-fb88a1497fb0"
      },
      "source": [
        "Quarter= ['Q1/2019', 'Q2/2019', 'Q3/2019', 'Q4/2019', 'Q1/2020', 'Q2/2020', 'Q3/2020', 'Q4/2020', 'Q1/2021', 'Q2/2021']\n",
        "\n",
        "fig = go.Figure(data=[\n",
        "    go.Bar(name='ACB', x= Quarter, y= a3),\n",
        "    go.Bar(name='SCB', x= Quarter, y= s3),\n",
        "    go.Bar(name='BID', x= Quarter, y= b3),\n",
        "    go.Bar(name='TPB', x= Quarter, y= t3),\n",
        "    go.Bar(name='VCB', x= Quarter, y= v3),\n",
        "    go.Bar(name='VTB', x= Quarter, y= vt3),\n",
        "])\n",
        "\n",
        "fig.update_layout(title='Tổng thu nhập của các ngân hàng qua các quý từ 2019-2021',yaxis_title='Thu nhập',\n",
        "                   xaxis_title='Qúy 1 2019 - Qúy 2 2021',barmode='group')\n",
        "\n",
        "fig.show()\n",
        "\n"
      ],
      "execution_count": null,
      "outputs": [
        {
          "output_type": "display_data",
          "data": {
            "text/html": [
              "<html>\n",
              "<head><meta charset=\"utf-8\" /></head>\n",
              "<body>\n",
              "    <div>\n",
              "            <script src=\"https://cdnjs.cloudflare.com/ajax/libs/mathjax/2.7.5/MathJax.js?config=TeX-AMS-MML_SVG\"></script><script type=\"text/javascript\">if (window.MathJax) {MathJax.Hub.Config({SVG: {font: \"STIX-Web\"}});}</script>\n",
              "                <script type=\"text/javascript\">window.PlotlyConfig = {MathJaxConfig: 'local'};</script>\n",
              "        <script src=\"https://cdn.plot.ly/plotly-latest.min.js\"></script>    \n",
              "            <div id=\"172060ae-9be5-40c7-a6eb-8cc487f16234\" class=\"plotly-graph-div\" style=\"height:525px; width:100%;\"></div>\n",
              "            <script type=\"text/javascript\">\n",
              "                \n",
              "                    window.PLOTLYENV=window.PLOTLYENV || {};\n",
              "                    \n",
              "                if (document.getElementById(\"172060ae-9be5-40c7-a6eb-8cc487f16234\")) {\n",
              "                    Plotly.newPlot(\n",
              "                        '172060ae-9be5-40c7-a6eb-8cc487f16234',\n",
              "                        [{\"name\": \"ACB\", \"type\": \"bar\", \"x\": [\"Q1/2019\", \"Q2/2019\", \"Q3/2019\", \"Q4/2019\", \"Q1/2020\", \"Q2/2020\", \"Q3/2020\", \"Q4/2020\", \"Q1/2021\", \"Q2/2021\"], \"y\": [3490162000000.0, 3948649000000.0, 3848856000000.0, 4809686000000.0, 4378224000000.0, 4102100000000.0, 4485580000000.0, 5195405000000.0, 5675377000000.0, 6227217000000.0]}, {\"name\": \"SCB\", \"type\": \"bar\", \"x\": [\"Q1/2019\", \"Q2/2019\", \"Q3/2019\", \"Q4/2019\", \"Q1/2020\", \"Q2/2020\", \"Q3/2020\", \"Q4/2020\", \"Q1/2021\", \"Q2/2021\"], \"y\": [3541709000000.0, 3300792000000.0, 4018619000000.0, 3774218000000.0, 3883112000000.0, 3561262000000.0, 4810047000000.0, 5016448000000.0, 4145339000000.0, 4746113000000.0]}, {\"name\": \"BID\", \"type\": \"bar\", \"x\": [\"Q1/2019\", \"Q2/2019\", \"Q3/2019\", \"Q4/2019\", \"Q1/2020\", \"Q2/2020\", \"Q3/2020\", \"Q4/2020\", \"Q1/2021\", \"Q2/2021\"], \"y\": [10705259000000.0, 11994514000000.0, 11588064000000.0, 13906608000000.0, 11338856000000.0, 10702938000000.0, 12392568000000.0, 15479678000000.0, 14605044000000.0, 17056442000000.0]}, {\"name\": \"TPB\", \"type\": \"bar\", \"x\": [\"Q1/2019\", \"Q2/2019\", \"Q3/2019\", \"Q4/2019\", \"Q1/2020\", \"Q2/2020\", \"Q3/2020\", \"Q4/2020\", \"Q1/2021\", \"Q2/2021\"], \"y\": [1905964000000.0, 1917301000000.0, 1961332000000.0, 2803865000000.0, 2429510000000.0, 2458383000000.0, 2215083000000.0, 3274860000000.0, 2797996000000.0, 3434709000000.0]}, {\"name\": \"VCB\", \"type\": \"bar\", \"x\": [\"Q1/2019\", \"Q2/2019\", \"Q3/2019\", \"Q4/2019\", \"Q1/2020\", \"Q2/2020\", \"Q3/2020\", \"Q4/2020\", \"Q1/2021\", \"Q2/2021\"], \"y\": [11767685000000.0, 11303317000000.0, 11994525000000.0, 10667464000000.0, 12285485000000.0, 10733127000000.0, 11586450000000.0, 14393363000000.0, 15685596000000.0, 12894777000000.0]}, {\"name\": \"VTB\", \"type\": \"bar\", \"x\": [\"Q1/2019\", \"Q2/2019\", \"Q3/2019\", \"Q4/2019\", \"Q1/2020\", \"Q2/2020\", \"Q3/2020\", \"Q4/2020\", \"Q1/2021\", \"Q2/2021\"], \"y\": [9632267000000.0, 10037070000000.0, 10375880000000.0, 10573446000000.0, 10684767000000.0, 9974677000000.0, 11510962000000.0, 13109620000000.0, 12922553000000.0, 14083397000000.0]}],\n",
              "                        {\"barmode\": \"group\", \"template\": {\"data\": {\"bar\": [{\"error_x\": {\"color\": \"#2a3f5f\"}, \"error_y\": {\"color\": \"#2a3f5f\"}, \"marker\": {\"line\": {\"color\": \"#E5ECF6\", \"width\": 0.5}}, \"type\": \"bar\"}], \"barpolar\": [{\"marker\": {\"line\": {\"color\": \"#E5ECF6\", \"width\": 0.5}}, \"type\": \"barpolar\"}], \"carpet\": [{\"aaxis\": {\"endlinecolor\": \"#2a3f5f\", \"gridcolor\": \"white\", \"linecolor\": \"white\", \"minorgridcolor\": \"white\", \"startlinecolor\": \"#2a3f5f\"}, \"baxis\": {\"endlinecolor\": \"#2a3f5f\", \"gridcolor\": \"white\", \"linecolor\": \"white\", \"minorgridcolor\": \"white\", \"startlinecolor\": \"#2a3f5f\"}, \"type\": \"carpet\"}], \"choropleth\": [{\"colorbar\": {\"outlinewidth\": 0, \"ticks\": \"\"}, \"type\": \"choropleth\"}], \"contour\": [{\"colorbar\": {\"outlinewidth\": 0, \"ticks\": \"\"}, \"colorscale\": [[0.0, \"#0d0887\"], [0.1111111111111111, \"#46039f\"], [0.2222222222222222, \"#7201a8\"], [0.3333333333333333, \"#9c179e\"], [0.4444444444444444, \"#bd3786\"], [0.5555555555555556, \"#d8576b\"], [0.6666666666666666, \"#ed7953\"], [0.7777777777777778, \"#fb9f3a\"], [0.8888888888888888, \"#fdca26\"], [1.0, \"#f0f921\"]], \"type\": \"contour\"}], \"contourcarpet\": [{\"colorbar\": {\"outlinewidth\": 0, \"ticks\": \"\"}, \"type\": \"contourcarpet\"}], \"heatmap\": [{\"colorbar\": {\"outlinewidth\": 0, \"ticks\": \"\"}, \"colorscale\": [[0.0, \"#0d0887\"], [0.1111111111111111, \"#46039f\"], [0.2222222222222222, \"#7201a8\"], [0.3333333333333333, \"#9c179e\"], [0.4444444444444444, \"#bd3786\"], [0.5555555555555556, \"#d8576b\"], [0.6666666666666666, \"#ed7953\"], [0.7777777777777778, \"#fb9f3a\"], [0.8888888888888888, \"#fdca26\"], [1.0, \"#f0f921\"]], \"type\": \"heatmap\"}], \"heatmapgl\": [{\"colorbar\": {\"outlinewidth\": 0, \"ticks\": \"\"}, \"colorscale\": [[0.0, \"#0d0887\"], [0.1111111111111111, \"#46039f\"], [0.2222222222222222, \"#7201a8\"], [0.3333333333333333, \"#9c179e\"], [0.4444444444444444, \"#bd3786\"], [0.5555555555555556, \"#d8576b\"], [0.6666666666666666, \"#ed7953\"], [0.7777777777777778, \"#fb9f3a\"], [0.8888888888888888, \"#fdca26\"], [1.0, \"#f0f921\"]], \"type\": \"heatmapgl\"}], \"histogram\": [{\"marker\": {\"colorbar\": {\"outlinewidth\": 0, \"ticks\": \"\"}}, \"type\": \"histogram\"}], \"histogram2d\": [{\"colorbar\": {\"outlinewidth\": 0, \"ticks\": \"\"}, \"colorscale\": [[0.0, \"#0d0887\"], [0.1111111111111111, \"#46039f\"], [0.2222222222222222, \"#7201a8\"], [0.3333333333333333, \"#9c179e\"], [0.4444444444444444, \"#bd3786\"], [0.5555555555555556, \"#d8576b\"], [0.6666666666666666, \"#ed7953\"], [0.7777777777777778, \"#fb9f3a\"], [0.8888888888888888, \"#fdca26\"], [1.0, \"#f0f921\"]], \"type\": \"histogram2d\"}], \"histogram2dcontour\": [{\"colorbar\": {\"outlinewidth\": 0, \"ticks\": \"\"}, \"colorscale\": [[0.0, \"#0d0887\"], [0.1111111111111111, \"#46039f\"], [0.2222222222222222, \"#7201a8\"], [0.3333333333333333, \"#9c179e\"], [0.4444444444444444, \"#bd3786\"], [0.5555555555555556, \"#d8576b\"], [0.6666666666666666, \"#ed7953\"], [0.7777777777777778, \"#fb9f3a\"], [0.8888888888888888, \"#fdca26\"], [1.0, \"#f0f921\"]], \"type\": \"histogram2dcontour\"}], \"mesh3d\": [{\"colorbar\": {\"outlinewidth\": 0, \"ticks\": \"\"}, \"type\": \"mesh3d\"}], \"parcoords\": [{\"line\": {\"colorbar\": {\"outlinewidth\": 0, \"ticks\": \"\"}}, \"type\": \"parcoords\"}], \"pie\": [{\"automargin\": true, \"type\": \"pie\"}], \"scatter\": [{\"marker\": {\"colorbar\": {\"outlinewidth\": 0, \"ticks\": \"\"}}, \"type\": \"scatter\"}], \"scatter3d\": [{\"line\": {\"colorbar\": {\"outlinewidth\": 0, \"ticks\": \"\"}}, \"marker\": {\"colorbar\": {\"outlinewidth\": 0, \"ticks\": \"\"}}, \"type\": \"scatter3d\"}], \"scattercarpet\": [{\"marker\": {\"colorbar\": {\"outlinewidth\": 0, \"ticks\": \"\"}}, \"type\": \"scattercarpet\"}], \"scattergeo\": [{\"marker\": {\"colorbar\": {\"outlinewidth\": 0, \"ticks\": \"\"}}, \"type\": \"scattergeo\"}], \"scattergl\": [{\"marker\": {\"colorbar\": {\"outlinewidth\": 0, \"ticks\": \"\"}}, \"type\": \"scattergl\"}], \"scattermapbox\": [{\"marker\": {\"colorbar\": {\"outlinewidth\": 0, \"ticks\": \"\"}}, \"type\": \"scattermapbox\"}], \"scatterpolar\": [{\"marker\": {\"colorbar\": {\"outlinewidth\": 0, \"ticks\": \"\"}}, \"type\": \"scatterpolar\"}], \"scatterpolargl\": [{\"marker\": {\"colorbar\": {\"outlinewidth\": 0, \"ticks\": \"\"}}, \"type\": \"scatterpolargl\"}], \"scatterternary\": [{\"marker\": {\"colorbar\": {\"outlinewidth\": 0, \"ticks\": \"\"}}, \"type\": \"scatterternary\"}], \"surface\": [{\"colorbar\": {\"outlinewidth\": 0, \"ticks\": \"\"}, \"colorscale\": [[0.0, \"#0d0887\"], [0.1111111111111111, \"#46039f\"], [0.2222222222222222, \"#7201a8\"], [0.3333333333333333, \"#9c179e\"], [0.4444444444444444, \"#bd3786\"], [0.5555555555555556, \"#d8576b\"], [0.6666666666666666, \"#ed7953\"], [0.7777777777777778, \"#fb9f3a\"], [0.8888888888888888, \"#fdca26\"], [1.0, \"#f0f921\"]], \"type\": \"surface\"}], \"table\": [{\"cells\": {\"fill\": {\"color\": \"#EBF0F8\"}, \"line\": {\"color\": \"white\"}}, \"header\": {\"fill\": {\"color\": \"#C8D4E3\"}, \"line\": {\"color\": \"white\"}}, \"type\": \"table\"}]}, \"layout\": {\"annotationdefaults\": {\"arrowcolor\": \"#2a3f5f\", \"arrowhead\": 0, \"arrowwidth\": 1}, \"coloraxis\": {\"colorbar\": {\"outlinewidth\": 0, \"ticks\": \"\"}}, \"colorscale\": {\"diverging\": [[0, \"#8e0152\"], [0.1, \"#c51b7d\"], [0.2, \"#de77ae\"], [0.3, \"#f1b6da\"], [0.4, \"#fde0ef\"], [0.5, \"#f7f7f7\"], [0.6, \"#e6f5d0\"], [0.7, \"#b8e186\"], [0.8, \"#7fbc41\"], [0.9, \"#4d9221\"], [1, \"#276419\"]], \"sequential\": [[0.0, \"#0d0887\"], [0.1111111111111111, \"#46039f\"], [0.2222222222222222, \"#7201a8\"], [0.3333333333333333, \"#9c179e\"], [0.4444444444444444, \"#bd3786\"], [0.5555555555555556, \"#d8576b\"], [0.6666666666666666, \"#ed7953\"], [0.7777777777777778, \"#fb9f3a\"], [0.8888888888888888, \"#fdca26\"], [1.0, \"#f0f921\"]], \"sequentialminus\": [[0.0, \"#0d0887\"], [0.1111111111111111, \"#46039f\"], [0.2222222222222222, \"#7201a8\"], [0.3333333333333333, \"#9c179e\"], [0.4444444444444444, \"#bd3786\"], [0.5555555555555556, \"#d8576b\"], [0.6666666666666666, \"#ed7953\"], [0.7777777777777778, \"#fb9f3a\"], [0.8888888888888888, \"#fdca26\"], [1.0, \"#f0f921\"]]}, \"colorway\": [\"#636efa\", \"#EF553B\", \"#00cc96\", \"#ab63fa\", \"#FFA15A\", \"#19d3f3\", \"#FF6692\", \"#B6E880\", \"#FF97FF\", \"#FECB52\"], \"font\": {\"color\": \"#2a3f5f\"}, \"geo\": {\"bgcolor\": \"white\", \"lakecolor\": \"white\", \"landcolor\": \"#E5ECF6\", \"showlakes\": true, \"showland\": true, \"subunitcolor\": \"white\"}, \"hoverlabel\": {\"align\": \"left\"}, \"hovermode\": \"closest\", \"mapbox\": {\"style\": \"light\"}, \"paper_bgcolor\": \"white\", \"plot_bgcolor\": \"#E5ECF6\", \"polar\": {\"angularaxis\": {\"gridcolor\": \"white\", \"linecolor\": \"white\", \"ticks\": \"\"}, \"bgcolor\": \"#E5ECF6\", \"radialaxis\": {\"gridcolor\": \"white\", \"linecolor\": \"white\", \"ticks\": \"\"}}, \"scene\": {\"xaxis\": {\"backgroundcolor\": \"#E5ECF6\", \"gridcolor\": \"white\", \"gridwidth\": 2, \"linecolor\": \"white\", \"showbackground\": true, \"ticks\": \"\", \"zerolinecolor\": \"white\"}, \"yaxis\": {\"backgroundcolor\": \"#E5ECF6\", \"gridcolor\": \"white\", \"gridwidth\": 2, \"linecolor\": \"white\", \"showbackground\": true, \"ticks\": \"\", \"zerolinecolor\": \"white\"}, \"zaxis\": {\"backgroundcolor\": \"#E5ECF6\", \"gridcolor\": \"white\", \"gridwidth\": 2, \"linecolor\": \"white\", \"showbackground\": true, \"ticks\": \"\", \"zerolinecolor\": \"white\"}}, \"shapedefaults\": {\"line\": {\"color\": \"#2a3f5f\"}}, \"ternary\": {\"aaxis\": {\"gridcolor\": \"white\", \"linecolor\": \"white\", \"ticks\": \"\"}, \"baxis\": {\"gridcolor\": \"white\", \"linecolor\": \"white\", \"ticks\": \"\"}, \"bgcolor\": \"#E5ECF6\", \"caxis\": {\"gridcolor\": \"white\", \"linecolor\": \"white\", \"ticks\": \"\"}}, \"title\": {\"x\": 0.05}, \"xaxis\": {\"automargin\": true, \"gridcolor\": \"white\", \"linecolor\": \"white\", \"ticks\": \"\", \"title\": {\"standoff\": 15}, \"zerolinecolor\": \"white\", \"zerolinewidth\": 2}, \"yaxis\": {\"automargin\": true, \"gridcolor\": \"white\", \"linecolor\": \"white\", \"ticks\": \"\", \"title\": {\"standoff\": 15}, \"zerolinecolor\": \"white\", \"zerolinewidth\": 2}}}, \"title\": {\"text\": \"T\\u1ed5ng thu nh\\u1eadp c\\u1ee7a c\\u00e1c ng\\u00e2n h\\u00e0ng qua c\\u00e1c qu\\u00fd t\\u1eeb 2019-2021\"}, \"xaxis\": {\"title\": {\"text\": \"Q\\u00fay 1 2019 - Q\\u00fay 2 2021\"}}, \"yaxis\": {\"title\": {\"text\": \"Thu nh\\u1eadp\"}}},\n",
              "                        {\"responsive\": true}\n",
              "                    ).then(function(){\n",
              "                            \n",
              "var gd = document.getElementById('172060ae-9be5-40c7-a6eb-8cc487f16234');\n",
              "var x = new MutationObserver(function (mutations, observer) {{\n",
              "        var display = window.getComputedStyle(gd).display;\n",
              "        if (!display || display === 'none') {{\n",
              "            console.log([gd, 'removed!']);\n",
              "            Plotly.purge(gd);\n",
              "            observer.disconnect();\n",
              "        }}\n",
              "}});\n",
              "\n",
              "// Listen for the removal of the full notebook cells\n",
              "var notebookContainer = gd.closest('#notebook-container');\n",
              "if (notebookContainer) {{\n",
              "    x.observe(notebookContainer, {childList: true});\n",
              "}}\n",
              "\n",
              "// Listen for the clearing of the current output cell\n",
              "var outputEl = gd.closest('.output');\n",
              "if (outputEl) {{\n",
              "    x.observe(outputEl, {childList: true});\n",
              "}}\n",
              "\n",
              "                        })\n",
              "                };\n",
              "                \n",
              "            </script>\n",
              "        </div>\n",
              "</body>\n",
              "</html>"
            ]
          },
          "metadata": {}
        }
      ]
    },
    {
      "cell_type": "markdown",
      "metadata": {
        "id": "T04jtrRaiBqL"
      },
      "source": [
        "# **Lợi nhuận**"
      ]
    },
    {
      "cell_type": "code",
      "metadata": {
        "id": "Onz-xXjWNDK4"
      },
      "source": [
        "acb_ebt= ACB.iloc[10, 2:]\n",
        "scb_ebt= SCB.iloc[10, 2:]\n",
        "bid_ebt= BID.iloc[10, 2:]\n",
        "tpb_ebt= TPB.iloc[10, 2:]\n",
        "vcb_ebt= VCB.iloc[10, 2:]\n",
        "vtb_ebt= VTB.iloc[10, 2:]"
      ],
      "execution_count": null,
      "outputs": []
    },
    {
      "cell_type": "code",
      "metadata": {
        "id": "vBXWkeshjEAK"
      },
      "source": [
        "acb_npat= ACB.iloc[11, 2:]\n",
        "scb_npat= SCB.iloc[11, 2:]\n",
        "bid_npat= BID.iloc[11, 2:]\n",
        "tpb_npat= TPB.iloc[11, 2:]\n",
        "vcb_npat= VCB.iloc[11, 2:]\n",
        "vtb_npat= VTB.iloc[11, 2:]"
      ],
      "execution_count": null,
      "outputs": []
    },
    {
      "cell_type": "code",
      "metadata": {
        "id": "IZdQ_Xx9lQpk"
      },
      "source": [
        "trace1 = go.Bar(x= Quarter, y= acb_ebt, opacity=0.75, name='Lợi nhuận trước thuế')\n",
        "trace2 = go.Bar(x= Quarter, y= acb_npat, opacity=0.75, name='Lợi nhuận sau thuế')\n",
        "g1 = go.FigureWidget(data=(trace1, trace2),\n",
        "                    layout=go.Layout(\n",
        "                        title=dict(\n",
        "                            text='Lợi nhuận trước thuế và lời nhuận sau thuế của ACB',\n",
        "                        ),\n",
        "                        barmode='group', yaxis_title='Ngàn tỷ', xaxis_title='Quý'\n",
        "                    ))\n",
        "trace3 = go.Bar(x= Quarter, y= scb_ebt, opacity=0.75, name='Lợi nhuận trước thuế')\n",
        "trace4 = go.Bar(x= Quarter, y= scb_npat, opacity=0.75, name='Lợi nhuận sau thuế')\n",
        "g2 = go.FigureWidget(data=(trace3, trace4),\n",
        "                    layout=go.Layout(\n",
        "                        title=dict(\n",
        "                            text='Lợi nhuận trước thuế và lời nhuận sau thuế SCB'\n",
        "                        ),\n",
        "                        barmode='group', yaxis_title='Ngàn tỷ', xaxis_title='Quý'\n",
        "                    ))\n",
        "trace5 = go.Bar(x= Quarter, y= bid_ebt, opacity=0.75, name='Lợi nhuận trước thuế')\n",
        "trace6 = go.Bar(x= Quarter, y= bid_npat, opacity=0.75, name='Lợi nhuận sau thuế')\n",
        "g3 = go.FigureWidget(data=(trace5, trace6),\n",
        "                    layout=go.Layout(\n",
        "                        title=dict(\n",
        "                            text='Lợi nhuận trước thuế và lời nhuận sau thuế của BIDV'\n",
        "                        ),\n",
        "                        barmode='group', yaxis_title='Ngàn tỷ', xaxis_title='Quý'\n",
        "                    ))\n",
        "trace7 = go.Bar(x= Quarter, y= tpb_ebt, opacity=0.75, name='Lợi nhuận trước thuế')\n",
        "trace8 = go.Bar(x= Quarter, y= tpb_npat, opacity=0.75, name='Lợi nhuận sau thuế')\n",
        "g4 = go.FigureWidget(data=(trace7, trace8),\n",
        "                    layout=go.Layout(\n",
        "                        title=dict(\n",
        "                            text='Lợi nhuận trước thuế và lời nhuận sau thuế của TPB'\n",
        "                        ),\n",
        "                        barmode='group', yaxis_title='Ngàn tỷ', xaxis_title='Quý'\n",
        "                    ))\n",
        "trace9 = go.Bar(x= Quarter, y= vcb_ebt, opacity=0.75, name='Lợi nhuận trước thuế')\n",
        "trace10 = go.Bar(x= Quarter, y= vcb_npat, opacity=0.75, name='Lợi nhuận sau thuế')\n",
        "g5 = go.FigureWidget(data=(trace9, trace10),\n",
        "                    layout=go.Layout(\n",
        "                        title=dict(\n",
        "                            text='Lợi nhuận trước thuế và lời nhuận sau thuế của VCB'\n",
        "                        ),\n",
        "                        barmode='group', yaxis_title='Ngàn tỷ', xaxis_title='Quý'\n",
        "                    ))\n",
        "trace11 = go.Bar(x= Quarter, y= vtb_ebt, opacity=0.75, name='Lợi nhuận trước thuế')\n",
        "trace12 = go.Bar(x= Quarter, y= vtb_npat, opacity=0.75, name='Lợi nhuận sau thuế')\n",
        "g6 = go.FigureWidget(data=(trace11, trace12),\n",
        "                    layout=go.Layout(\n",
        "                        title=dict(\n",
        "                            text='Lợi nhuận trước thuế và lời nhuận sau thuế của VTB'\n",
        "                        ),\n",
        "                        barmode='group', yaxis_title='Ngàn tỷ', xaxis_title='Quý'\n",
        "                    ))\n",
        "\n",
        "trace13= go.Bar(name='ACB', x= Quarter, y= acb_ebt)\n",
        "trace14= go.Bar(name='SCB', x= Quarter, y= scb_ebt)\n",
        "trace15= go.Bar(name='BID', x= Quarter, y= bid_ebt)\n",
        "trace16= go.Bar(name='TPB', x= Quarter, y= tpb_ebt)\n",
        "trace17= go.Bar(name='VCB', x= Quarter, y= vcb_ebt)\n",
        "trace18= go.Bar(name='VTB', x= Quarter, y= vtb_ebt)\n",
        "g7 = go.FigureWidget(data=(trace13, trace14, trace15, trace16, trace17, trace18),\n",
        "                    layout=go.Layout(\n",
        "                        title=dict(\n",
        "                            text='Lợi nhuận trước thuế của các ngân hàng'\n",
        "                        ),\n",
        "                        barmode='group', yaxis_title='Ngàn tỷ', xaxis_title='Quý'\n",
        "                    ))\n",
        "trace19= go.Bar(name='ACB', x= Quarter, y= acb_npat)\n",
        "trace20= go.Bar(name='SCB', x= Quarter, y= scb_npat)\n",
        "trace21= go.Bar(name='BID', x= Quarter, y= bid_npat)\n",
        "trace22= go.Bar(name='TPB', x= Quarter, y= tpb_npat)\n",
        "trace23= go.Bar(name='VCB', x= Quarter, y= vcb_npat)\n",
        "trace24= go.Bar(name='VTB', x= Quarter, y= vtb_npat)\n",
        "g8 = go.FigureWidget(data=(trace19, trace20, trace21, trace22, trace23, trace24),\n",
        "                    layout=go.Layout(\n",
        "                        title=dict(\n",
        "                            text='Lợi nhuận sau thuế của các ngân hàng'\n",
        "                        ),\n",
        "                        barmode='group', yaxis_title='Ngàn tỷ', xaxis_title='Quý'\n",
        "                    ))"
      ],
      "execution_count": null,
      "outputs": []
    },
    {
      "cell_type": "code",
      "metadata": {
        "colab": {
          "base_uri": "https://localhost:8080/",
          "height": 66,
          "referenced_widgets": [
            "bc15e8fbc4b14c5eb923e001f0f08c52",
            "6c37efe44a9443beb5928a1352534dbf",
            "08be62cbdeb34864ba3da37dd659b67e",
            "8f7b58f9428846e7af8b99a8077431ff",
            "d82c736543514d6d8db2e59ba44d499f",
            "181faec6e12c4f85aa874a6bfb02e18e",
            "b0428482401d4570a6d6420335281922",
            "10991b063613422f88f9893d5957e6dd"
          ]
        },
        "id": "5rHV3QMQXjhh",
        "outputId": "fc31eece-0d97-4b54-b720-602f0355df8a"
      },
      "source": [
        "def interactive(Name= ['ACB', 'SCB', 'BIDV', 'TPB', 'VCB', 'VTB','Lợi nhuận trước thuế của các ngân hàng','Lợi nhuận sau thuế của các ngân hàng']):\n",
        "    if Name == 'ACB':\n",
        "        return g1\n",
        "    elif Name == 'SCB':\n",
        "        return g2\n",
        "    elif Name == 'BIDV':\n",
        "        return g3\n",
        "    elif Name == 'TPB':\n",
        "        return g4\n",
        "    elif Name == 'VCB':\n",
        "        return g5\n",
        "    elif Name == 'VTB':\n",
        "        return g6\n",
        "    elif Name == 'Lợi nhuận trước thuế của các ngân hàng':\n",
        "        return g7\n",
        "    elif Name == 'Lợi nhuận sau thuế của các ngân hàng':\n",
        "        return g8\n",
        "\n",
        "widgets.interact(interactive)"
      ],
      "execution_count": null,
      "outputs": [
        {
          "output_type": "display_data",
          "data": {
            "application/vnd.jupyter.widget-view+json": {
              "model_id": "bc15e8fbc4b14c5eb923e001f0f08c52",
              "version_minor": 0,
              "version_major": 2
            },
            "text/plain": [
              "interactive(children=(Dropdown(description='Name', options=('ACB', 'SCB', 'BIDV', 'TPB', 'VCB', 'VTB', 'Lợi nh…"
            ]
          },
          "metadata": {}
        },
        {
          "output_type": "execute_result",
          "data": {
            "text/plain": [
              "<function __main__.interactive>"
            ]
          },
          "metadata": {},
          "execution_count": 16
        }
      ]
    },
    {
      "cell_type": "code",
      "metadata": {
        "id": "UuwK5qJUbhLF"
      },
      "source": [
        "#Net Profit\n",
        "acb_npr= ACB.iloc[12, 2:]\n",
        "scb_npr= SCB.iloc[12, 2:]\n",
        "bid_npr= BID.iloc[12, 2:]\n",
        "tpb_npr= TPB.iloc[12, 2:]\n",
        "vcb_npr= VCB.iloc[12, 2:]\n",
        "vtb_npr= VTB.iloc[12, 2:]"
      ],
      "execution_count": null,
      "outputs": []
    },
    {
      "cell_type": "code",
      "metadata": {
        "id": "TUdKhb7SbmIQ",
        "colab": {
          "base_uri": "https://localhost:8080/",
          "height": 542
        },
        "outputId": "19922dbf-81fd-4ed4-a448-8f1a045435af"
      },
      "source": [
        "npr = go.Figure(data=[\n",
        "    go.Bar(name='ACB', y= acb_npr, x= Quarter),\n",
        "    go.Bar(name='SCB', y= scb_npr, x= Quarter),\n",
        "    go.Bar(name='BID', y= bid_npr, x= Quarter),\n",
        "    go.Bar(name='TPB', y= tpb_npr, x= Quarter),\n",
        "    go.Bar(name='VCB', y= vcb_npr, x= Quarter),\n",
        "    go.Bar(name='VTB', y= vtb_npr, x= Quarter)\n",
        "])\n",
        "\n",
        "npr.update_layout(title='Lợi nhuận ròng các ngân hàng qua các Quý',yaxis_title='Ngàn tỷ',\n",
        "                   xaxis_title='Quý',barmode= 'stack')\n",
        "\n",
        "npr.show()"
      ],
      "execution_count": null,
      "outputs": [
        {
          "output_type": "display_data",
          "data": {
            "text/html": [
              "<html>\n",
              "<head><meta charset=\"utf-8\" /></head>\n",
              "<body>\n",
              "    <div>\n",
              "            <script src=\"https://cdnjs.cloudflare.com/ajax/libs/mathjax/2.7.5/MathJax.js?config=TeX-AMS-MML_SVG\"></script><script type=\"text/javascript\">if (window.MathJax) {MathJax.Hub.Config({SVG: {font: \"STIX-Web\"}});}</script>\n",
              "                <script type=\"text/javascript\">window.PlotlyConfig = {MathJaxConfig: 'local'};</script>\n",
              "        <script src=\"https://cdn.plot.ly/plotly-latest.min.js\"></script>    \n",
              "            <div id=\"5086b5ce-5b70-434f-907f-686f95b7929f\" class=\"plotly-graph-div\" style=\"height:525px; width:100%;\"></div>\n",
              "            <script type=\"text/javascript\">\n",
              "                \n",
              "                    window.PLOTLYENV=window.PLOTLYENV || {};\n",
              "                    \n",
              "                if (document.getElementById(\"5086b5ce-5b70-434f-907f-686f95b7929f\")) {\n",
              "                    Plotly.newPlot(\n",
              "                        '5086b5ce-5b70-434f-907f-686f95b7929f',\n",
              "                        [{\"name\": \"ACB\", \"type\": \"bar\", \"x\": [\"Q1/2019\", \"Q2/2019\", \"Q3/2019\", \"Q4/2019\", \"Q1/2020\", \"Q2/2020\", \"Q3/2020\", \"Q4/2020\", \"Q1/2021\", \"Q2/2021\"], \"y\": [1691233000000.0, 2026495000000.0, 2005239000000.0, 2066790000000.0, 2017589000000.0, 2334194000000.0, 2753568000000.0, 3431690000000.0, 3710080000000.0, 4634679000000.0]}, {\"name\": \"SCB\", \"type\": \"bar\", \"x\": [\"Q1/2019\", \"Q2/2019\", \"Q3/2019\", \"Q4/2019\", \"Q1/2020\", \"Q2/2020\", \"Q3/2020\", \"Q4/2020\", \"Q1/2021\", \"Q2/2021\"], \"y\": [1491428000000.0, 1015961000000.0, 1667265000000.0, 1194981000000.0, 1405546000000.0, 1588108000000.0, 2184819000000.0, 1077177000000.0, 1475966000000.0, 2410057000000.0]}, {\"name\": \"BID\", \"type\": \"bar\", \"x\": [\"Q1/2019\", \"Q2/2019\", \"Q3/2019\", \"Q4/2019\", \"Q1/2020\", \"Q2/2020\", \"Q3/2020\", \"Q4/2020\", \"Q1/2021\", \"Q2/2021\"], \"y\": [7707286000000.0, 7775179000000.0, 8075165000000.0, 7355440000000.0, 7854907000000.0, 6741146000000.0, 8461174000000.0, 9157568000000.0, 10568543000000.0, 12977217000000.0]}, {\"name\": \"TPB\", \"type\": \"bar\", \"x\": [\"Q1/2019\", \"Q2/2019\", \"Q3/2019\", \"Q4/2019\", \"Q1/2020\", \"Q2/2020\", \"Q3/2020\", \"Q4/2020\", \"Q1/2021\", \"Q2/2021\"], \"y\": [1007752000000.0, 1121976000000.0, 1233012000000.0, 1803398000000.0, 1333530000000.0, 1466554000000.0, 1405394000000.0, 1966418000000.0, 1813101000000.0, 2196868000000.0]}, {\"name\": \"VCB\", \"type\": \"bar\", \"x\": [\"Q1/2019\", \"Q2/2019\", \"Q3/2019\", \"Q4/2019\", \"Q1/2020\", \"Q2/2020\", \"Q3/2020\", \"Q4/2020\", \"Q1/2021\", \"Q2/2021\"], \"y\": [7384040000000.0, 7235921000000.0, 7812085000000.0, 7481080000000.0, 7375195000000.0, 7615108000000.0, 7007622000000.0, 10963016000000.0, 10906375000000.0, 8163486000000.0]}, {\"name\": \"VTB\", \"type\": \"bar\", \"x\": [\"Q1/2019\", \"Q2/2019\", \"Q3/2019\", \"Q4/2019\", \"Q1/2020\", \"Q2/2020\", \"Q3/2020\", \"Q4/2020\", \"Q1/2021\", \"Q2/2021\"], \"y\": [6394473000000.0, 6417806000000.0, 6623182000000.0, 5443687000000.0, 7367195000000.0, 6692971000000.0, 7762170000000.0, 7396185000000.0, 9410324000000.0, 9896321000000.0]}],\n",
              "                        {\"barmode\": \"stack\", \"template\": {\"data\": {\"bar\": [{\"error_x\": {\"color\": \"#2a3f5f\"}, \"error_y\": {\"color\": \"#2a3f5f\"}, \"marker\": {\"line\": {\"color\": \"#E5ECF6\", \"width\": 0.5}}, \"type\": \"bar\"}], \"barpolar\": [{\"marker\": {\"line\": {\"color\": \"#E5ECF6\", \"width\": 0.5}}, \"type\": \"barpolar\"}], \"carpet\": [{\"aaxis\": {\"endlinecolor\": \"#2a3f5f\", \"gridcolor\": \"white\", \"linecolor\": \"white\", \"minorgridcolor\": \"white\", \"startlinecolor\": \"#2a3f5f\"}, \"baxis\": {\"endlinecolor\": \"#2a3f5f\", \"gridcolor\": \"white\", \"linecolor\": \"white\", \"minorgridcolor\": \"white\", \"startlinecolor\": \"#2a3f5f\"}, \"type\": \"carpet\"}], \"choropleth\": [{\"colorbar\": {\"outlinewidth\": 0, \"ticks\": \"\"}, \"type\": \"choropleth\"}], \"contour\": [{\"colorbar\": {\"outlinewidth\": 0, \"ticks\": \"\"}, \"colorscale\": [[0.0, \"#0d0887\"], [0.1111111111111111, \"#46039f\"], [0.2222222222222222, \"#7201a8\"], [0.3333333333333333, \"#9c179e\"], [0.4444444444444444, \"#bd3786\"], [0.5555555555555556, \"#d8576b\"], [0.6666666666666666, \"#ed7953\"], [0.7777777777777778, \"#fb9f3a\"], [0.8888888888888888, \"#fdca26\"], [1.0, \"#f0f921\"]], \"type\": \"contour\"}], \"contourcarpet\": [{\"colorbar\": {\"outlinewidth\": 0, \"ticks\": \"\"}, \"type\": \"contourcarpet\"}], \"heatmap\": [{\"colorbar\": {\"outlinewidth\": 0, \"ticks\": \"\"}, \"colorscale\": [[0.0, \"#0d0887\"], [0.1111111111111111, \"#46039f\"], [0.2222222222222222, \"#7201a8\"], [0.3333333333333333, \"#9c179e\"], [0.4444444444444444, \"#bd3786\"], [0.5555555555555556, \"#d8576b\"], [0.6666666666666666, \"#ed7953\"], [0.7777777777777778, \"#fb9f3a\"], [0.8888888888888888, \"#fdca26\"], [1.0, \"#f0f921\"]], \"type\": \"heatmap\"}], \"heatmapgl\": [{\"colorbar\": {\"outlinewidth\": 0, \"ticks\": \"\"}, \"colorscale\": [[0.0, \"#0d0887\"], [0.1111111111111111, \"#46039f\"], [0.2222222222222222, \"#7201a8\"], [0.3333333333333333, \"#9c179e\"], [0.4444444444444444, \"#bd3786\"], [0.5555555555555556, \"#d8576b\"], [0.6666666666666666, \"#ed7953\"], [0.7777777777777778, \"#fb9f3a\"], [0.8888888888888888, \"#fdca26\"], [1.0, \"#f0f921\"]], \"type\": \"heatmapgl\"}], \"histogram\": [{\"marker\": {\"colorbar\": {\"outlinewidth\": 0, \"ticks\": \"\"}}, \"type\": \"histogram\"}], \"histogram2d\": [{\"colorbar\": {\"outlinewidth\": 0, \"ticks\": \"\"}, \"colorscale\": [[0.0, \"#0d0887\"], [0.1111111111111111, \"#46039f\"], [0.2222222222222222, \"#7201a8\"], [0.3333333333333333, \"#9c179e\"], [0.4444444444444444, \"#bd3786\"], [0.5555555555555556, \"#d8576b\"], [0.6666666666666666, \"#ed7953\"], [0.7777777777777778, \"#fb9f3a\"], [0.8888888888888888, \"#fdca26\"], [1.0, \"#f0f921\"]], \"type\": \"histogram2d\"}], \"histogram2dcontour\": [{\"colorbar\": {\"outlinewidth\": 0, \"ticks\": \"\"}, \"colorscale\": [[0.0, \"#0d0887\"], [0.1111111111111111, \"#46039f\"], [0.2222222222222222, \"#7201a8\"], [0.3333333333333333, \"#9c179e\"], [0.4444444444444444, \"#bd3786\"], [0.5555555555555556, \"#d8576b\"], [0.6666666666666666, \"#ed7953\"], [0.7777777777777778, \"#fb9f3a\"], [0.8888888888888888, \"#fdca26\"], [1.0, \"#f0f921\"]], \"type\": \"histogram2dcontour\"}], \"mesh3d\": [{\"colorbar\": {\"outlinewidth\": 0, \"ticks\": \"\"}, \"type\": \"mesh3d\"}], \"parcoords\": [{\"line\": {\"colorbar\": {\"outlinewidth\": 0, \"ticks\": \"\"}}, \"type\": \"parcoords\"}], \"pie\": [{\"automargin\": true, \"type\": \"pie\"}], \"scatter\": [{\"marker\": {\"colorbar\": {\"outlinewidth\": 0, \"ticks\": \"\"}}, \"type\": \"scatter\"}], \"scatter3d\": [{\"line\": {\"colorbar\": {\"outlinewidth\": 0, \"ticks\": \"\"}}, \"marker\": {\"colorbar\": {\"outlinewidth\": 0, \"ticks\": \"\"}}, \"type\": \"scatter3d\"}], \"scattercarpet\": [{\"marker\": {\"colorbar\": {\"outlinewidth\": 0, \"ticks\": \"\"}}, \"type\": \"scattercarpet\"}], \"scattergeo\": [{\"marker\": {\"colorbar\": {\"outlinewidth\": 0, \"ticks\": \"\"}}, \"type\": \"scattergeo\"}], \"scattergl\": [{\"marker\": {\"colorbar\": {\"outlinewidth\": 0, \"ticks\": \"\"}}, \"type\": \"scattergl\"}], \"scattermapbox\": [{\"marker\": {\"colorbar\": {\"outlinewidth\": 0, \"ticks\": \"\"}}, \"type\": \"scattermapbox\"}], \"scatterpolar\": [{\"marker\": {\"colorbar\": {\"outlinewidth\": 0, \"ticks\": \"\"}}, \"type\": \"scatterpolar\"}], \"scatterpolargl\": [{\"marker\": {\"colorbar\": {\"outlinewidth\": 0, \"ticks\": \"\"}}, \"type\": \"scatterpolargl\"}], \"scatterternary\": [{\"marker\": {\"colorbar\": {\"outlinewidth\": 0, \"ticks\": \"\"}}, \"type\": \"scatterternary\"}], \"surface\": [{\"colorbar\": {\"outlinewidth\": 0, \"ticks\": \"\"}, \"colorscale\": [[0.0, \"#0d0887\"], [0.1111111111111111, \"#46039f\"], [0.2222222222222222, \"#7201a8\"], [0.3333333333333333, \"#9c179e\"], [0.4444444444444444, \"#bd3786\"], [0.5555555555555556, \"#d8576b\"], [0.6666666666666666, \"#ed7953\"], [0.7777777777777778, \"#fb9f3a\"], [0.8888888888888888, \"#fdca26\"], [1.0, \"#f0f921\"]], \"type\": \"surface\"}], \"table\": [{\"cells\": {\"fill\": {\"color\": \"#EBF0F8\"}, \"line\": {\"color\": \"white\"}}, \"header\": {\"fill\": {\"color\": \"#C8D4E3\"}, \"line\": {\"color\": \"white\"}}, \"type\": \"table\"}]}, \"layout\": {\"annotationdefaults\": {\"arrowcolor\": \"#2a3f5f\", \"arrowhead\": 0, \"arrowwidth\": 1}, \"coloraxis\": {\"colorbar\": {\"outlinewidth\": 0, \"ticks\": \"\"}}, \"colorscale\": {\"diverging\": [[0, \"#8e0152\"], [0.1, \"#c51b7d\"], [0.2, \"#de77ae\"], [0.3, \"#f1b6da\"], [0.4, \"#fde0ef\"], [0.5, \"#f7f7f7\"], [0.6, \"#e6f5d0\"], [0.7, \"#b8e186\"], [0.8, \"#7fbc41\"], [0.9, \"#4d9221\"], [1, \"#276419\"]], \"sequential\": [[0.0, \"#0d0887\"], [0.1111111111111111, \"#46039f\"], [0.2222222222222222, \"#7201a8\"], [0.3333333333333333, \"#9c179e\"], [0.4444444444444444, \"#bd3786\"], [0.5555555555555556, \"#d8576b\"], [0.6666666666666666, \"#ed7953\"], [0.7777777777777778, \"#fb9f3a\"], [0.8888888888888888, \"#fdca26\"], [1.0, \"#f0f921\"]], \"sequentialminus\": [[0.0, \"#0d0887\"], [0.1111111111111111, \"#46039f\"], [0.2222222222222222, \"#7201a8\"], [0.3333333333333333, \"#9c179e\"], [0.4444444444444444, \"#bd3786\"], [0.5555555555555556, \"#d8576b\"], [0.6666666666666666, \"#ed7953\"], [0.7777777777777778, \"#fb9f3a\"], [0.8888888888888888, \"#fdca26\"], [1.0, \"#f0f921\"]]}, \"colorway\": [\"#636efa\", \"#EF553B\", \"#00cc96\", \"#ab63fa\", \"#FFA15A\", \"#19d3f3\", \"#FF6692\", \"#B6E880\", \"#FF97FF\", \"#FECB52\"], \"font\": {\"color\": \"#2a3f5f\"}, \"geo\": {\"bgcolor\": \"white\", \"lakecolor\": \"white\", \"landcolor\": \"#E5ECF6\", \"showlakes\": true, \"showland\": true, \"subunitcolor\": \"white\"}, \"hoverlabel\": {\"align\": \"left\"}, \"hovermode\": \"closest\", \"mapbox\": {\"style\": \"light\"}, \"paper_bgcolor\": \"white\", \"plot_bgcolor\": \"#E5ECF6\", \"polar\": {\"angularaxis\": {\"gridcolor\": \"white\", \"linecolor\": \"white\", \"ticks\": \"\"}, \"bgcolor\": \"#E5ECF6\", \"radialaxis\": {\"gridcolor\": \"white\", \"linecolor\": \"white\", \"ticks\": \"\"}}, \"scene\": {\"xaxis\": {\"backgroundcolor\": \"#E5ECF6\", \"gridcolor\": \"white\", \"gridwidth\": 2, \"linecolor\": \"white\", \"showbackground\": true, \"ticks\": \"\", \"zerolinecolor\": \"white\"}, \"yaxis\": {\"backgroundcolor\": \"#E5ECF6\", \"gridcolor\": \"white\", \"gridwidth\": 2, \"linecolor\": \"white\", \"showbackground\": true, \"ticks\": \"\", \"zerolinecolor\": \"white\"}, \"zaxis\": {\"backgroundcolor\": \"#E5ECF6\", \"gridcolor\": \"white\", \"gridwidth\": 2, \"linecolor\": \"white\", \"showbackground\": true, \"ticks\": \"\", \"zerolinecolor\": \"white\"}}, \"shapedefaults\": {\"line\": {\"color\": \"#2a3f5f\"}}, \"ternary\": {\"aaxis\": {\"gridcolor\": \"white\", \"linecolor\": \"white\", \"ticks\": \"\"}, \"baxis\": {\"gridcolor\": \"white\", \"linecolor\": \"white\", \"ticks\": \"\"}, \"bgcolor\": \"#E5ECF6\", \"caxis\": {\"gridcolor\": \"white\", \"linecolor\": \"white\", \"ticks\": \"\"}}, \"title\": {\"x\": 0.05}, \"xaxis\": {\"automargin\": true, \"gridcolor\": \"white\", \"linecolor\": \"white\", \"ticks\": \"\", \"title\": {\"standoff\": 15}, \"zerolinecolor\": \"white\", \"zerolinewidth\": 2}, \"yaxis\": {\"automargin\": true, \"gridcolor\": \"white\", \"linecolor\": \"white\", \"ticks\": \"\", \"title\": {\"standoff\": 15}, \"zerolinecolor\": \"white\", \"zerolinewidth\": 2}}}, \"title\": {\"text\": \"L\\u1ee3i nhu\\u1eadn r\\u00f2ng c\\u00e1c ng\\u00e2n h\\u00e0ng qua c\\u00e1c Qu\\u00fd\"}, \"xaxis\": {\"title\": {\"text\": \"Qu\\u00fd\"}}, \"yaxis\": {\"title\": {\"text\": \"Ng\\u00e0n t\\u1ef7\"}}},\n",
              "                        {\"responsive\": true}\n",
              "                    ).then(function(){\n",
              "                            \n",
              "var gd = document.getElementById('5086b5ce-5b70-434f-907f-686f95b7929f');\n",
              "var x = new MutationObserver(function (mutations, observer) {{\n",
              "        var display = window.getComputedStyle(gd).display;\n",
              "        if (!display || display === 'none') {{\n",
              "            console.log([gd, 'removed!']);\n",
              "            Plotly.purge(gd);\n",
              "            observer.disconnect();\n",
              "        }}\n",
              "}});\n",
              "\n",
              "// Listen for the removal of the full notebook cells\n",
              "var notebookContainer = gd.closest('#notebook-container');\n",
              "if (notebookContainer) {{\n",
              "    x.observe(notebookContainer, {childList: true});\n",
              "}}\n",
              "\n",
              "// Listen for the clearing of the current output cell\n",
              "var outputEl = gd.closest('.output');\n",
              "if (outputEl) {{\n",
              "    x.observe(outputEl, {childList: true});\n",
              "}}\n",
              "\n",
              "                        })\n",
              "                };\n",
              "                \n",
              "            </script>\n",
              "        </div>\n",
              "</body>\n",
              "</html>"
            ]
          },
          "metadata": {}
        }
      ]
    },
    {
      "cell_type": "markdown",
      "metadata": {
        "id": "o_vu0J6Dbp7a"
      },
      "source": [
        "# **Tiền gửi ngân hàng**"
      ]
    },
    {
      "cell_type": "code",
      "metadata": {
        "id": "kBxRfnGTbw1R"
      },
      "source": [
        "#Due To Customers\n",
        "acb_dtc= ACB.iloc[19, 2:]\n",
        "scb_dtc= SCB.iloc[19, 2:]\n",
        "bid_dtc= BID.iloc[19, 2:]\n",
        "tpb_dtc= TPB.iloc[19, 2:]\n",
        "vcb_dtc= VCB.iloc[19, 2:]\n",
        "vtb_dtc= VTB.iloc[19, 2:]"
      ],
      "execution_count": null,
      "outputs": []
    },
    {
      "cell_type": "code",
      "metadata": {
        "id": "QUyOXtqtb1cG",
        "colab": {
          "base_uri": "https://localhost:8080/",
          "height": 698
        },
        "outputId": "87b0a8f6-43eb-43c8-f5a6-2f33792949d2"
      },
      "source": [
        "dtc = go.Figure(data=[\n",
        "    go.Line(name='ACB', y= acb_dtc, x= Quarter),\n",
        "    go.Line(name='SCB', y= scb_dtc, x= Quarter),\n",
        "    go.Line(name='BID', y= bid_dtc, x= Quarter),\n",
        "    go.Line(name='TPB', y= tpb_dtc, x= Quarter),\n",
        "    go.Line(name='VCB', y= vcb_dtc, x= Quarter),\n",
        "    go.Line(name='VTB', y= vtb_dtc, x= Quarter),\n",
        "])\n",
        "\n",
        "dtc.update_layout(title='Tiền gửi ngân hàng',yaxis_title='Ngàn tỷ',\n",
        "                   xaxis_title='Quý')\n",
        "\n",
        "dtc.show()"
      ],
      "execution_count": null,
      "outputs": [
        {
          "output_type": "stream",
          "name": "stderr",
          "text": [
            "/usr/local/lib/python3.7/dist-packages/plotly/graph_objs/_deprecations.py:385: DeprecationWarning:\n",
            "\n",
            "plotly.graph_objs.Line is deprecated.\n",
            "Please replace it with one of the following more specific types\n",
            "  - plotly.graph_objs.scatter.Line\n",
            "  - plotly.graph_objs.layout.shape.Line\n",
            "  - etc.\n",
            "\n",
            "\n"
          ]
        },
        {
          "output_type": "display_data",
          "data": {
            "text/html": [
              "<html>\n",
              "<head><meta charset=\"utf-8\" /></head>\n",
              "<body>\n",
              "    <div>\n",
              "            <script src=\"https://cdnjs.cloudflare.com/ajax/libs/mathjax/2.7.5/MathJax.js?config=TeX-AMS-MML_SVG\"></script><script type=\"text/javascript\">if (window.MathJax) {MathJax.Hub.Config({SVG: {font: \"STIX-Web\"}});}</script>\n",
              "                <script type=\"text/javascript\">window.PlotlyConfig = {MathJaxConfig: 'local'};</script>\n",
              "        <script src=\"https://cdn.plot.ly/plotly-latest.min.js\"></script>    \n",
              "            <div id=\"7c75ecb4-3b88-443d-bddc-e718166a6607\" class=\"plotly-graph-div\" style=\"height:525px; width:100%;\"></div>\n",
              "            <script type=\"text/javascript\">\n",
              "                \n",
              "                    window.PLOTLYENV=window.PLOTLYENV || {};\n",
              "                    \n",
              "                if (document.getElementById(\"7c75ecb4-3b88-443d-bddc-e718166a6607\")) {\n",
              "                    Plotly.newPlot(\n",
              "                        '7c75ecb4-3b88-443d-bddc-e718166a6607',\n",
              "                        [{\"name\": \"ACB\", \"type\": \"scatter\", \"x\": [\"Q1/2019\", \"Q2/2019\", \"Q3/2019\", \"Q4/2019\", \"Q1/2020\", \"Q2/2020\", \"Q3/2020\", \"Q4/2020\", \"Q1/2021\", \"Q2/2021\"], \"y\": [9209490000000.0, 7775415000000.0, 5973123000000.0, 10420306000000.0, 12671154000000.0, 20813912000000.0, 12289157000000.0, 16616798000000.0, 20232572000000.0, 21912320000000.0]}, {\"name\": \"SCB\", \"type\": \"scatter\", \"x\": [\"Q1/2019\", \"Q2/2019\", \"Q3/2019\", \"Q4/2019\", \"Q1/2020\", \"Q2/2020\", \"Q3/2020\", \"Q4/2020\", \"Q1/2021\", \"Q2/2021\"], \"y\": [10502428000000.0, 11045526000000.0, 10449141000000.0, 12109861000000.0, 11426800000000.0, 14113254000000.0, 12059124000000.0, 10052590000000.0, 11896701000000.0, 11367139000000.0]}, {\"name\": \"BID\", \"type\": \"scatter\", \"x\": [\"Q1/2019\", \"Q2/2019\", \"Q3/2019\", \"Q4/2019\", \"Q1/2020\", \"Q2/2020\", \"Q3/2020\", \"Q4/2020\", \"Q1/2021\", \"Q2/2021\"], \"y\": [32963975000000.0, 15351805000000.0, 42191695000000.0, 135255429000000.0, 26782623000000.0, 28062207000000.0, 40335703000000.0, 49434766000000.0, 91672598000000.0, 37588465000000.0]}, {\"name\": \"TPB\", \"type\": \"scatter\", \"x\": [\"Q1/2019\", \"Q2/2019\", \"Q3/2019\", \"Q4/2019\", \"Q1/2020\", \"Q2/2020\", \"Q3/2020\", \"Q4/2020\", \"Q1/2021\", \"Q2/2021\"], \"y\": [4912162000000.0, 5394560000000.0, 6087591000000.0, 7760937000000.0, 3249808000000.0, 7702277000000.0, 8870437000000.0, 9108762000000.0, 10467415000000.0, 16421498000000.0]}, {\"name\": \"VCB\", \"type\": \"scatter\", \"x\": [\"Q1/2019\", \"Q2/2019\", \"Q3/2019\", \"Q4/2019\", \"Q1/2020\", \"Q2/2020\", \"Q3/2020\", \"Q4/2020\", \"Q1/2021\", \"Q2/2021\"], \"y\": [39616873000000.0, 49621074000000.0, 32427277000000.0, 34684091000000.0, 16569663000000.0, 72917405000000.0, 24743965000000.0, 33139373000000.0, 24008360000000.0, 23485760000000.0]}, {\"name\": \"VTB\", \"type\": \"scatter\", \"x\": [\"Q1/2019\", \"Q2/2019\", \"Q3/2019\", \"Q4/2019\", \"Q1/2020\", \"Q2/2020\", \"Q3/2020\", \"Q4/2020\", \"Q1/2021\", \"Q2/2021\"], \"y\": [32079140000000.0, 31819095000000.0, 23706522000000.0, 24873714000000.0, 25157456000000.0, 12877566000000.0, 17214434000000.0, 57616650000000.0, 10213007000000.0, 37858344000000.0]}],\n",
              "                        {\"template\": {\"data\": {\"bar\": [{\"error_x\": {\"color\": \"#2a3f5f\"}, \"error_y\": {\"color\": \"#2a3f5f\"}, \"marker\": {\"line\": {\"color\": \"#E5ECF6\", \"width\": 0.5}}, \"type\": \"bar\"}], \"barpolar\": [{\"marker\": {\"line\": {\"color\": \"#E5ECF6\", \"width\": 0.5}}, \"type\": \"barpolar\"}], \"carpet\": [{\"aaxis\": {\"endlinecolor\": \"#2a3f5f\", \"gridcolor\": \"white\", \"linecolor\": \"white\", \"minorgridcolor\": \"white\", \"startlinecolor\": \"#2a3f5f\"}, \"baxis\": {\"endlinecolor\": \"#2a3f5f\", \"gridcolor\": \"white\", \"linecolor\": \"white\", \"minorgridcolor\": \"white\", \"startlinecolor\": \"#2a3f5f\"}, \"type\": \"carpet\"}], \"choropleth\": [{\"colorbar\": {\"outlinewidth\": 0, \"ticks\": \"\"}, \"type\": \"choropleth\"}], \"contour\": [{\"colorbar\": {\"outlinewidth\": 0, \"ticks\": \"\"}, \"colorscale\": [[0.0, \"#0d0887\"], [0.1111111111111111, \"#46039f\"], [0.2222222222222222, \"#7201a8\"], [0.3333333333333333, \"#9c179e\"], [0.4444444444444444, \"#bd3786\"], [0.5555555555555556, \"#d8576b\"], [0.6666666666666666, \"#ed7953\"], [0.7777777777777778, \"#fb9f3a\"], [0.8888888888888888, \"#fdca26\"], [1.0, \"#f0f921\"]], \"type\": \"contour\"}], \"contourcarpet\": [{\"colorbar\": {\"outlinewidth\": 0, \"ticks\": \"\"}, \"type\": \"contourcarpet\"}], \"heatmap\": [{\"colorbar\": {\"outlinewidth\": 0, \"ticks\": \"\"}, \"colorscale\": [[0.0, \"#0d0887\"], [0.1111111111111111, \"#46039f\"], [0.2222222222222222, \"#7201a8\"], [0.3333333333333333, \"#9c179e\"], [0.4444444444444444, \"#bd3786\"], [0.5555555555555556, \"#d8576b\"], [0.6666666666666666, \"#ed7953\"], [0.7777777777777778, \"#fb9f3a\"], [0.8888888888888888, \"#fdca26\"], [1.0, \"#f0f921\"]], \"type\": \"heatmap\"}], \"heatmapgl\": [{\"colorbar\": {\"outlinewidth\": 0, \"ticks\": \"\"}, \"colorscale\": [[0.0, \"#0d0887\"], [0.1111111111111111, \"#46039f\"], [0.2222222222222222, \"#7201a8\"], [0.3333333333333333, \"#9c179e\"], [0.4444444444444444, \"#bd3786\"], [0.5555555555555556, \"#d8576b\"], [0.6666666666666666, \"#ed7953\"], [0.7777777777777778, \"#fb9f3a\"], [0.8888888888888888, \"#fdca26\"], [1.0, \"#f0f921\"]], \"type\": \"heatmapgl\"}], \"histogram\": [{\"marker\": {\"colorbar\": {\"outlinewidth\": 0, \"ticks\": \"\"}}, \"type\": \"histogram\"}], \"histogram2d\": [{\"colorbar\": {\"outlinewidth\": 0, \"ticks\": \"\"}, \"colorscale\": [[0.0, \"#0d0887\"], [0.1111111111111111, \"#46039f\"], [0.2222222222222222, \"#7201a8\"], [0.3333333333333333, \"#9c179e\"], [0.4444444444444444, \"#bd3786\"], [0.5555555555555556, \"#d8576b\"], [0.6666666666666666, \"#ed7953\"], [0.7777777777777778, \"#fb9f3a\"], [0.8888888888888888, \"#fdca26\"], [1.0, \"#f0f921\"]], \"type\": \"histogram2d\"}], \"histogram2dcontour\": [{\"colorbar\": {\"outlinewidth\": 0, \"ticks\": \"\"}, \"colorscale\": [[0.0, \"#0d0887\"], [0.1111111111111111, \"#46039f\"], [0.2222222222222222, \"#7201a8\"], [0.3333333333333333, \"#9c179e\"], [0.4444444444444444, \"#bd3786\"], [0.5555555555555556, \"#d8576b\"], [0.6666666666666666, \"#ed7953\"], [0.7777777777777778, \"#fb9f3a\"], [0.8888888888888888, \"#fdca26\"], [1.0, \"#f0f921\"]], \"type\": \"histogram2dcontour\"}], \"mesh3d\": [{\"colorbar\": {\"outlinewidth\": 0, \"ticks\": \"\"}, \"type\": \"mesh3d\"}], \"parcoords\": [{\"line\": {\"colorbar\": {\"outlinewidth\": 0, \"ticks\": \"\"}}, \"type\": \"parcoords\"}], \"pie\": [{\"automargin\": true, \"type\": \"pie\"}], \"scatter\": [{\"marker\": {\"colorbar\": {\"outlinewidth\": 0, \"ticks\": \"\"}}, \"type\": \"scatter\"}], \"scatter3d\": [{\"line\": {\"colorbar\": {\"outlinewidth\": 0, \"ticks\": \"\"}}, \"marker\": {\"colorbar\": {\"outlinewidth\": 0, \"ticks\": \"\"}}, \"type\": \"scatter3d\"}], \"scattercarpet\": [{\"marker\": {\"colorbar\": {\"outlinewidth\": 0, \"ticks\": \"\"}}, \"type\": \"scattercarpet\"}], \"scattergeo\": [{\"marker\": {\"colorbar\": {\"outlinewidth\": 0, \"ticks\": \"\"}}, \"type\": \"scattergeo\"}], \"scattergl\": [{\"marker\": {\"colorbar\": {\"outlinewidth\": 0, \"ticks\": \"\"}}, \"type\": \"scattergl\"}], \"scattermapbox\": [{\"marker\": {\"colorbar\": {\"outlinewidth\": 0, \"ticks\": \"\"}}, \"type\": \"scattermapbox\"}], \"scatterpolar\": [{\"marker\": {\"colorbar\": {\"outlinewidth\": 0, \"ticks\": \"\"}}, \"type\": \"scatterpolar\"}], \"scatterpolargl\": [{\"marker\": {\"colorbar\": {\"outlinewidth\": 0, \"ticks\": \"\"}}, \"type\": \"scatterpolargl\"}], \"scatterternary\": [{\"marker\": {\"colorbar\": {\"outlinewidth\": 0, \"ticks\": \"\"}}, \"type\": \"scatterternary\"}], \"surface\": [{\"colorbar\": {\"outlinewidth\": 0, \"ticks\": \"\"}, \"colorscale\": [[0.0, \"#0d0887\"], [0.1111111111111111, \"#46039f\"], [0.2222222222222222, \"#7201a8\"], [0.3333333333333333, \"#9c179e\"], [0.4444444444444444, \"#bd3786\"], [0.5555555555555556, \"#d8576b\"], [0.6666666666666666, \"#ed7953\"], [0.7777777777777778, \"#fb9f3a\"], [0.8888888888888888, \"#fdca26\"], [1.0, \"#f0f921\"]], \"type\": \"surface\"}], \"table\": [{\"cells\": {\"fill\": {\"color\": \"#EBF0F8\"}, \"line\": {\"color\": \"white\"}}, \"header\": {\"fill\": {\"color\": \"#C8D4E3\"}, \"line\": {\"color\": \"white\"}}, \"type\": \"table\"}]}, \"layout\": {\"annotationdefaults\": {\"arrowcolor\": \"#2a3f5f\", \"arrowhead\": 0, \"arrowwidth\": 1}, \"coloraxis\": {\"colorbar\": {\"outlinewidth\": 0, \"ticks\": \"\"}}, \"colorscale\": {\"diverging\": [[0, \"#8e0152\"], [0.1, \"#c51b7d\"], [0.2, \"#de77ae\"], [0.3, \"#f1b6da\"], [0.4, \"#fde0ef\"], [0.5, \"#f7f7f7\"], [0.6, \"#e6f5d0\"], [0.7, \"#b8e186\"], [0.8, \"#7fbc41\"], [0.9, \"#4d9221\"], [1, \"#276419\"]], \"sequential\": [[0.0, \"#0d0887\"], [0.1111111111111111, \"#46039f\"], [0.2222222222222222, \"#7201a8\"], [0.3333333333333333, \"#9c179e\"], [0.4444444444444444, \"#bd3786\"], [0.5555555555555556, \"#d8576b\"], [0.6666666666666666, \"#ed7953\"], [0.7777777777777778, \"#fb9f3a\"], [0.8888888888888888, \"#fdca26\"], [1.0, \"#f0f921\"]], \"sequentialminus\": [[0.0, \"#0d0887\"], [0.1111111111111111, \"#46039f\"], [0.2222222222222222, \"#7201a8\"], [0.3333333333333333, \"#9c179e\"], [0.4444444444444444, \"#bd3786\"], [0.5555555555555556, \"#d8576b\"], [0.6666666666666666, \"#ed7953\"], [0.7777777777777778, \"#fb9f3a\"], [0.8888888888888888, \"#fdca26\"], [1.0, \"#f0f921\"]]}, \"colorway\": [\"#636efa\", \"#EF553B\", \"#00cc96\", \"#ab63fa\", \"#FFA15A\", \"#19d3f3\", \"#FF6692\", \"#B6E880\", \"#FF97FF\", \"#FECB52\"], \"font\": {\"color\": \"#2a3f5f\"}, \"geo\": {\"bgcolor\": \"white\", \"lakecolor\": \"white\", \"landcolor\": \"#E5ECF6\", \"showlakes\": true, \"showland\": true, \"subunitcolor\": \"white\"}, \"hoverlabel\": {\"align\": \"left\"}, \"hovermode\": \"closest\", \"mapbox\": {\"style\": \"light\"}, \"paper_bgcolor\": \"white\", \"plot_bgcolor\": \"#E5ECF6\", \"polar\": {\"angularaxis\": {\"gridcolor\": \"white\", \"linecolor\": \"white\", \"ticks\": \"\"}, \"bgcolor\": \"#E5ECF6\", \"radialaxis\": {\"gridcolor\": \"white\", \"linecolor\": \"white\", \"ticks\": \"\"}}, \"scene\": {\"xaxis\": {\"backgroundcolor\": \"#E5ECF6\", \"gridcolor\": \"white\", \"gridwidth\": 2, \"linecolor\": \"white\", \"showbackground\": true, \"ticks\": \"\", \"zerolinecolor\": \"white\"}, \"yaxis\": {\"backgroundcolor\": \"#E5ECF6\", \"gridcolor\": \"white\", \"gridwidth\": 2, \"linecolor\": \"white\", \"showbackground\": true, \"ticks\": \"\", \"zerolinecolor\": \"white\"}, \"zaxis\": {\"backgroundcolor\": \"#E5ECF6\", \"gridcolor\": \"white\", \"gridwidth\": 2, \"linecolor\": \"white\", \"showbackground\": true, \"ticks\": \"\", \"zerolinecolor\": \"white\"}}, \"shapedefaults\": {\"line\": {\"color\": \"#2a3f5f\"}}, \"ternary\": {\"aaxis\": {\"gridcolor\": \"white\", \"linecolor\": \"white\", \"ticks\": \"\"}, \"baxis\": {\"gridcolor\": \"white\", \"linecolor\": \"white\", \"ticks\": \"\"}, \"bgcolor\": \"#E5ECF6\", \"caxis\": {\"gridcolor\": \"white\", \"linecolor\": \"white\", \"ticks\": \"\"}}, \"title\": {\"x\": 0.05}, \"xaxis\": {\"automargin\": true, \"gridcolor\": \"white\", \"linecolor\": \"white\", \"ticks\": \"\", \"title\": {\"standoff\": 15}, \"zerolinecolor\": \"white\", \"zerolinewidth\": 2}, \"yaxis\": {\"automargin\": true, \"gridcolor\": \"white\", \"linecolor\": \"white\", \"ticks\": \"\", \"title\": {\"standoff\": 15}, \"zerolinecolor\": \"white\", \"zerolinewidth\": 2}}}, \"title\": {\"text\": \"Ti\\u1ec1n g\\u1eedi ng\\u00e2n h\\u00e0ng\"}, \"xaxis\": {\"title\": {\"text\": \"Qu\\u00fd\"}}, \"yaxis\": {\"title\": {\"text\": \"Ng\\u00e0n t\\u1ef7\"}}},\n",
              "                        {\"responsive\": true}\n",
              "                    ).then(function(){\n",
              "                            \n",
              "var gd = document.getElementById('7c75ecb4-3b88-443d-bddc-e718166a6607');\n",
              "var x = new MutationObserver(function (mutations, observer) {{\n",
              "        var display = window.getComputedStyle(gd).display;\n",
              "        if (!display || display === 'none') {{\n",
              "            console.log([gd, 'removed!']);\n",
              "            Plotly.purge(gd);\n",
              "            observer.disconnect();\n",
              "        }}\n",
              "}});\n",
              "\n",
              "// Listen for the removal of the full notebook cells\n",
              "var notebookContainer = gd.closest('#notebook-container');\n",
              "if (notebookContainer) {{\n",
              "    x.observe(notebookContainer, {childList: true});\n",
              "}}\n",
              "\n",
              "// Listen for the clearing of the current output cell\n",
              "var outputEl = gd.closest('.output');\n",
              "if (outputEl) {{\n",
              "    x.observe(outputEl, {childList: true});\n",
              "}}\n",
              "\n",
              "                        })\n",
              "                };\n",
              "                \n",
              "            </script>\n",
              "        </div>\n",
              "</body>\n",
              "</html>"
            ]
          },
          "metadata": {}
        }
      ]
    },
    {
      "cell_type": "markdown",
      "metadata": {
        "id": "_nfxWgOQWDzl"
      },
      "source": [
        "**ROA ROE**"
      ]
    },
    {
      "cell_type": "code",
      "metadata": {
        "id": "8LX26v2JWDzm"
      },
      "source": [
        "acb_roa= ACB.iloc[16, 2:]\n",
        "scb_roa= SCB.iloc[16, 2:]\n",
        "bid_roa= BID.iloc[16, 2:]\n",
        "tpb_roa= TPB.iloc[16, 2:]\n",
        "vcb_roa= VCB.iloc[16, 2:]\n",
        "vtb_roa= VTB.iloc[16, 2:]"
      ],
      "execution_count": null,
      "outputs": []
    },
    {
      "cell_type": "code",
      "metadata": {
        "id": "xn4jD-64WDzm"
      },
      "source": [
        "acb_roe= ACB.iloc[17, 2:]\n",
        "scb_roe= SCB.iloc[17, 2:]\n",
        "bid_roe= BID.iloc[17, 2:]\n",
        "tpb_roe= TPB.iloc[17, 2:]\n",
        "vcb_roe= VCB.iloc[17, 2:]\n",
        "vtb_roe= VTB.iloc[17, 2:]"
      ],
      "execution_count": null,
      "outputs": []
    },
    {
      "cell_type": "code",
      "metadata": {
        "colab": {
          "base_uri": "https://localhost:8080/",
          "height": 542
        },
        "id": "iLxJ1b_3WDzn",
        "outputId": "5b5679c7-ea31-4232-e51e-a50d79fbcdd0"
      },
      "source": [
        "fig = go.Figure()\n",
        "fig.add_trace(go.Scatter(x=Quarter, y=acb_roa,\n",
        "                    mode='lines+markers',\n",
        "                    name='ACB'))\n",
        "fig.add_trace(go.Scatter(x=Quarter, y=bid_roa,\n",
        "                    mode='lines+markers',\n",
        "                    name='BIDV'))\n",
        "fig.add_trace(go.Scatter(x=Quarter, y=vcb_roa,\n",
        "                    mode='lines+markers',\n",
        "                    name='VCB'))\n",
        "fig.add_trace(go.Scatter(x=Quarter, y=vtb_roa,\n",
        "                    mode='lines+markers',\n",
        "                    name='VTB'))\n",
        "fig.add_trace(go.Scatter(x=Quarter, y=scb_roa,\n",
        "                    mode='lines+markers',\n",
        "                    name='SCB'))\n",
        "fig.add_trace(go.Scatter(x=Quarter, y=tpb_roa,\n",
        "                    mode='lines+markers',\n",
        "                    name='TPB'))\n",
        "fig.update_layout(yaxis_title='Phần trăm',\n",
        "                  xaxis_title='Quý 2019 - Quý 2021',\n",
        "                  title = dict(text = \"ROA\"),\n",
        "                  font=dict(family=\"Arial, monospace\", size=15, color=\"Black\"),\n",
        "                  barmode='group')\n",
        "fig.show()"
      ],
      "execution_count": null,
      "outputs": [
        {
          "output_type": "display_data",
          "data": {
            "text/html": [
              "<html>\n",
              "<head><meta charset=\"utf-8\" /></head>\n",
              "<body>\n",
              "    <div>\n",
              "            <script src=\"https://cdnjs.cloudflare.com/ajax/libs/mathjax/2.7.5/MathJax.js?config=TeX-AMS-MML_SVG\"></script><script type=\"text/javascript\">if (window.MathJax) {MathJax.Hub.Config({SVG: {font: \"STIX-Web\"}});}</script>\n",
              "                <script type=\"text/javascript\">window.PlotlyConfig = {MathJaxConfig: 'local'};</script>\n",
              "        <script src=\"https://cdn.plot.ly/plotly-latest.min.js\"></script>    \n",
              "            <div id=\"4f91a835-62a0-4e2b-a04b-2f5025cb601f\" class=\"plotly-graph-div\" style=\"height:525px; width:100%;\"></div>\n",
              "            <script type=\"text/javascript\">\n",
              "                \n",
              "                    window.PLOTLYENV=window.PLOTLYENV || {};\n",
              "                    \n",
              "                if (document.getElementById(\"4f91a835-62a0-4e2b-a04b-2f5025cb601f\")) {\n",
              "                    Plotly.newPlot(\n",
              "                        '4f91a835-62a0-4e2b-a04b-2f5025cb601f',\n",
              "                        [{\"mode\": \"lines+markers\", \"name\": \"ACB\", \"type\": \"scatter\", \"x\": [\"Q1/2019\", \"Q2/2019\", \"Q3/2019\", \"Q4/2019\", \"Q1/2020\", \"Q2/2020\", \"Q3/2020\", \"Q4/2020\", \"Q1/2021\", \"Q2/2021\"], \"y\": [0.004067535183, 0.004367558524, 0.004325292101, 0.004039589758, 0.003967652711, 0.003835198582, 0.004954221726, 0.00573536635, 0.005524626499, 0.005491979406]}, {\"mode\": \"lines+markers\", \"name\": \"BIDV\", \"type\": \"scatter\", \"x\": [\"Q1/2019\", \"Q2/2019\", \"Q3/2019\", \"Q4/2019\", \"Q1/2020\", \"Q2/2020\", \"Q3/2020\", \"Q4/2020\", \"Q1/2021\", \"Q2/2021\"], \"y\": [0.001507685485, 0.001286505488, 0.001314841381, 0.002026532692, 0.0009988997009, 0.00147736252, 0.001481166495, 0.00111798777, 0.001745821403, 0.002306683759]}, {\"mode\": \"lines+markers\", \"name\": \"VCB\", \"type\": \"scatter\", \"x\": [\"Q1/2019\", \"Q2/2019\", \"Q3/2019\", \"Q4/2019\", \"Q1/2020\", \"Q2/2020\", \"Q3/2020\", \"Q4/2020\", \"Q1/2021\", \"Q2/2021\"], \"y\": [0.004389043798, 0.003886840325, 0.00436426662, 0.003595132469, 0.003655303418, 0.003893808649, 0.003361858365, 0.004273932063, 0.005400865048, 0.003037740569]}, {\"mode\": \"lines+markers\", \"name\": \"VTB\", \"type\": \"scatter\", \"x\": [\"Q1/2019\", \"Q2/2019\", \"Q3/2019\", \"Q4/2019\", \"Q1/2020\", \"Q2/2020\", \"Q3/2020\", \"Q4/2020\", \"Q1/2021\", \"Q2/2021\"], \"y\": [0.002214110654, 0.001493733642, 0.002093766021, 0.002138772279, 0.001966804863, 0.002912527324, 0.001856676721, 0.004014028933, 0.004814899991, 0.001519706057]}, {\"mode\": \"lines+markers\", \"name\": \"SCB\", \"type\": \"scatter\", \"x\": [\"Q1/2019\", \"Q2/2019\", \"Q3/2019\", \"Q4/2019\", \"Q1/2020\", \"Q2/2020\", \"Q3/2020\", \"Q4/2020\", \"Q1/2021\", \"Q2/2021\"], \"y\": [0.001986297348, 0.0006994669362, 0.001714501529, 0.001171936067, 0.001711568967, 0.0007125366853, 0.001476177641, 0.001698229372, 0.001610408978, 0.002205678159]}, {\"mode\": \"lines+markers\", \"name\": \"TPB\", \"type\": \"scatter\", \"x\": [\"Q1/2019\", \"Q2/2019\", \"Q3/2019\", \"Q4/2019\", \"Q1/2020\", \"Q2/2020\", \"Q3/2020\", \"Q4/2020\", \"Q1/2021\", \"Q2/2021\"], \"y\": [0.004874983797, 0.004207697064, 0.004075502407, 0.007115984645, 0.00458177846, 0.004514826047, 0.004091303647, 0.005285995425, 0.005264931105, 0.005237935581]}],\n",
              "                        {\"barmode\": \"group\", \"font\": {\"color\": \"Black\", \"family\": \"Arial, monospace\", \"size\": 15}, \"template\": {\"data\": {\"bar\": [{\"error_x\": {\"color\": \"#2a3f5f\"}, \"error_y\": {\"color\": \"#2a3f5f\"}, \"marker\": {\"line\": {\"color\": \"#E5ECF6\", \"width\": 0.5}}, \"type\": \"bar\"}], \"barpolar\": [{\"marker\": {\"line\": {\"color\": \"#E5ECF6\", \"width\": 0.5}}, \"type\": \"barpolar\"}], \"carpet\": [{\"aaxis\": {\"endlinecolor\": \"#2a3f5f\", \"gridcolor\": \"white\", \"linecolor\": \"white\", \"minorgridcolor\": \"white\", \"startlinecolor\": \"#2a3f5f\"}, \"baxis\": {\"endlinecolor\": \"#2a3f5f\", \"gridcolor\": \"white\", \"linecolor\": \"white\", \"minorgridcolor\": \"white\", \"startlinecolor\": \"#2a3f5f\"}, \"type\": \"carpet\"}], \"choropleth\": [{\"colorbar\": {\"outlinewidth\": 0, \"ticks\": \"\"}, \"type\": \"choropleth\"}], \"contour\": [{\"colorbar\": {\"outlinewidth\": 0, \"ticks\": \"\"}, \"colorscale\": [[0.0, \"#0d0887\"], [0.1111111111111111, \"#46039f\"], [0.2222222222222222, \"#7201a8\"], [0.3333333333333333, \"#9c179e\"], [0.4444444444444444, \"#bd3786\"], [0.5555555555555556, \"#d8576b\"], [0.6666666666666666, \"#ed7953\"], [0.7777777777777778, \"#fb9f3a\"], [0.8888888888888888, \"#fdca26\"], [1.0, \"#f0f921\"]], \"type\": \"contour\"}], \"contourcarpet\": [{\"colorbar\": {\"outlinewidth\": 0, \"ticks\": \"\"}, \"type\": \"contourcarpet\"}], \"heatmap\": [{\"colorbar\": {\"outlinewidth\": 0, \"ticks\": \"\"}, \"colorscale\": [[0.0, \"#0d0887\"], [0.1111111111111111, \"#46039f\"], [0.2222222222222222, \"#7201a8\"], [0.3333333333333333, \"#9c179e\"], [0.4444444444444444, \"#bd3786\"], [0.5555555555555556, \"#d8576b\"], [0.6666666666666666, \"#ed7953\"], [0.7777777777777778, \"#fb9f3a\"], [0.8888888888888888, \"#fdca26\"], [1.0, \"#f0f921\"]], \"type\": \"heatmap\"}], \"heatmapgl\": [{\"colorbar\": {\"outlinewidth\": 0, \"ticks\": \"\"}, \"colorscale\": [[0.0, \"#0d0887\"], [0.1111111111111111, \"#46039f\"], [0.2222222222222222, \"#7201a8\"], [0.3333333333333333, \"#9c179e\"], [0.4444444444444444, \"#bd3786\"], [0.5555555555555556, \"#d8576b\"], [0.6666666666666666, \"#ed7953\"], [0.7777777777777778, \"#fb9f3a\"], [0.8888888888888888, \"#fdca26\"], [1.0, \"#f0f921\"]], \"type\": \"heatmapgl\"}], \"histogram\": [{\"marker\": {\"colorbar\": {\"outlinewidth\": 0, \"ticks\": \"\"}}, \"type\": \"histogram\"}], \"histogram2d\": [{\"colorbar\": {\"outlinewidth\": 0, \"ticks\": \"\"}, \"colorscale\": [[0.0, \"#0d0887\"], [0.1111111111111111, \"#46039f\"], [0.2222222222222222, \"#7201a8\"], [0.3333333333333333, \"#9c179e\"], [0.4444444444444444, \"#bd3786\"], [0.5555555555555556, \"#d8576b\"], [0.6666666666666666, \"#ed7953\"], [0.7777777777777778, \"#fb9f3a\"], [0.8888888888888888, \"#fdca26\"], [1.0, \"#f0f921\"]], \"type\": \"histogram2d\"}], \"histogram2dcontour\": [{\"colorbar\": {\"outlinewidth\": 0, \"ticks\": \"\"}, \"colorscale\": [[0.0, \"#0d0887\"], [0.1111111111111111, \"#46039f\"], [0.2222222222222222, \"#7201a8\"], [0.3333333333333333, \"#9c179e\"], [0.4444444444444444, \"#bd3786\"], [0.5555555555555556, \"#d8576b\"], [0.6666666666666666, \"#ed7953\"], [0.7777777777777778, \"#fb9f3a\"], [0.8888888888888888, \"#fdca26\"], [1.0, \"#f0f921\"]], \"type\": \"histogram2dcontour\"}], \"mesh3d\": [{\"colorbar\": {\"outlinewidth\": 0, \"ticks\": \"\"}, \"type\": \"mesh3d\"}], \"parcoords\": [{\"line\": {\"colorbar\": {\"outlinewidth\": 0, \"ticks\": \"\"}}, \"type\": \"parcoords\"}], \"pie\": [{\"automargin\": true, \"type\": \"pie\"}], \"scatter\": [{\"marker\": {\"colorbar\": {\"outlinewidth\": 0, \"ticks\": \"\"}}, \"type\": \"scatter\"}], \"scatter3d\": [{\"line\": {\"colorbar\": {\"outlinewidth\": 0, \"ticks\": \"\"}}, \"marker\": {\"colorbar\": {\"outlinewidth\": 0, \"ticks\": \"\"}}, \"type\": \"scatter3d\"}], \"scattercarpet\": [{\"marker\": {\"colorbar\": {\"outlinewidth\": 0, \"ticks\": \"\"}}, \"type\": \"scattercarpet\"}], \"scattergeo\": [{\"marker\": {\"colorbar\": {\"outlinewidth\": 0, \"ticks\": \"\"}}, \"type\": \"scattergeo\"}], \"scattergl\": [{\"marker\": {\"colorbar\": {\"outlinewidth\": 0, \"ticks\": \"\"}}, \"type\": \"scattergl\"}], \"scattermapbox\": [{\"marker\": {\"colorbar\": {\"outlinewidth\": 0, \"ticks\": \"\"}}, \"type\": \"scattermapbox\"}], \"scatterpolar\": [{\"marker\": {\"colorbar\": {\"outlinewidth\": 0, \"ticks\": \"\"}}, \"type\": \"scatterpolar\"}], \"scatterpolargl\": [{\"marker\": {\"colorbar\": {\"outlinewidth\": 0, \"ticks\": \"\"}}, \"type\": \"scatterpolargl\"}], \"scatterternary\": [{\"marker\": {\"colorbar\": {\"outlinewidth\": 0, \"ticks\": \"\"}}, \"type\": \"scatterternary\"}], \"surface\": [{\"colorbar\": {\"outlinewidth\": 0, \"ticks\": \"\"}, \"colorscale\": [[0.0, \"#0d0887\"], [0.1111111111111111, \"#46039f\"], [0.2222222222222222, \"#7201a8\"], [0.3333333333333333, \"#9c179e\"], [0.4444444444444444, \"#bd3786\"], [0.5555555555555556, \"#d8576b\"], [0.6666666666666666, \"#ed7953\"], [0.7777777777777778, \"#fb9f3a\"], [0.8888888888888888, \"#fdca26\"], [1.0, \"#f0f921\"]], \"type\": \"surface\"}], \"table\": [{\"cells\": {\"fill\": {\"color\": \"#EBF0F8\"}, \"line\": {\"color\": \"white\"}}, \"header\": {\"fill\": {\"color\": \"#C8D4E3\"}, \"line\": {\"color\": \"white\"}}, \"type\": \"table\"}]}, \"layout\": {\"annotationdefaults\": {\"arrowcolor\": \"#2a3f5f\", \"arrowhead\": 0, \"arrowwidth\": 1}, \"coloraxis\": {\"colorbar\": {\"outlinewidth\": 0, \"ticks\": \"\"}}, \"colorscale\": {\"diverging\": [[0, \"#8e0152\"], [0.1, \"#c51b7d\"], [0.2, \"#de77ae\"], [0.3, \"#f1b6da\"], [0.4, \"#fde0ef\"], [0.5, \"#f7f7f7\"], [0.6, \"#e6f5d0\"], [0.7, \"#b8e186\"], [0.8, \"#7fbc41\"], [0.9, \"#4d9221\"], [1, \"#276419\"]], \"sequential\": [[0.0, \"#0d0887\"], [0.1111111111111111, \"#46039f\"], [0.2222222222222222, \"#7201a8\"], [0.3333333333333333, \"#9c179e\"], [0.4444444444444444, \"#bd3786\"], [0.5555555555555556, \"#d8576b\"], [0.6666666666666666, \"#ed7953\"], [0.7777777777777778, \"#fb9f3a\"], [0.8888888888888888, \"#fdca26\"], [1.0, \"#f0f921\"]], \"sequentialminus\": [[0.0, \"#0d0887\"], [0.1111111111111111, \"#46039f\"], [0.2222222222222222, \"#7201a8\"], [0.3333333333333333, \"#9c179e\"], [0.4444444444444444, \"#bd3786\"], [0.5555555555555556, \"#d8576b\"], [0.6666666666666666, \"#ed7953\"], [0.7777777777777778, \"#fb9f3a\"], [0.8888888888888888, \"#fdca26\"], [1.0, \"#f0f921\"]]}, \"colorway\": [\"#636efa\", \"#EF553B\", \"#00cc96\", \"#ab63fa\", \"#FFA15A\", \"#19d3f3\", \"#FF6692\", \"#B6E880\", \"#FF97FF\", \"#FECB52\"], \"font\": {\"color\": \"#2a3f5f\"}, \"geo\": {\"bgcolor\": \"white\", \"lakecolor\": \"white\", \"landcolor\": \"#E5ECF6\", \"showlakes\": true, \"showland\": true, \"subunitcolor\": \"white\"}, \"hoverlabel\": {\"align\": \"left\"}, \"hovermode\": \"closest\", \"mapbox\": {\"style\": \"light\"}, \"paper_bgcolor\": \"white\", \"plot_bgcolor\": \"#E5ECF6\", \"polar\": {\"angularaxis\": {\"gridcolor\": \"white\", \"linecolor\": \"white\", \"ticks\": \"\"}, \"bgcolor\": \"#E5ECF6\", \"radialaxis\": {\"gridcolor\": \"white\", \"linecolor\": \"white\", \"ticks\": \"\"}}, \"scene\": {\"xaxis\": {\"backgroundcolor\": \"#E5ECF6\", \"gridcolor\": \"white\", \"gridwidth\": 2, \"linecolor\": \"white\", \"showbackground\": true, \"ticks\": \"\", \"zerolinecolor\": \"white\"}, \"yaxis\": {\"backgroundcolor\": \"#E5ECF6\", \"gridcolor\": \"white\", \"gridwidth\": 2, \"linecolor\": \"white\", \"showbackground\": true, \"ticks\": \"\", \"zerolinecolor\": \"white\"}, \"zaxis\": {\"backgroundcolor\": \"#E5ECF6\", \"gridcolor\": \"white\", \"gridwidth\": 2, \"linecolor\": \"white\", \"showbackground\": true, \"ticks\": \"\", \"zerolinecolor\": \"white\"}}, \"shapedefaults\": {\"line\": {\"color\": \"#2a3f5f\"}}, \"ternary\": {\"aaxis\": {\"gridcolor\": \"white\", \"linecolor\": \"white\", \"ticks\": \"\"}, \"baxis\": {\"gridcolor\": \"white\", \"linecolor\": \"white\", \"ticks\": \"\"}, \"bgcolor\": \"#E5ECF6\", \"caxis\": {\"gridcolor\": \"white\", \"linecolor\": \"white\", \"ticks\": \"\"}}, \"title\": {\"x\": 0.05}, \"xaxis\": {\"automargin\": true, \"gridcolor\": \"white\", \"linecolor\": \"white\", \"ticks\": \"\", \"title\": {\"standoff\": 15}, \"zerolinecolor\": \"white\", \"zerolinewidth\": 2}, \"yaxis\": {\"automargin\": true, \"gridcolor\": \"white\", \"linecolor\": \"white\", \"ticks\": \"\", \"title\": {\"standoff\": 15}, \"zerolinecolor\": \"white\", \"zerolinewidth\": 2}}}, \"title\": {\"text\": \"ROA\"}, \"xaxis\": {\"title\": {\"text\": \"Qu\\u00fd 2019 - Qu\\u00fd 2021\"}}, \"yaxis\": {\"title\": {\"text\": \"Ph\\u1ea7n tr\\u0103m\"}}},\n",
              "                        {\"responsive\": true}\n",
              "                    ).then(function(){\n",
              "                            \n",
              "var gd = document.getElementById('4f91a835-62a0-4e2b-a04b-2f5025cb601f');\n",
              "var x = new MutationObserver(function (mutations, observer) {{\n",
              "        var display = window.getComputedStyle(gd).display;\n",
              "        if (!display || display === 'none') {{\n",
              "            console.log([gd, 'removed!']);\n",
              "            Plotly.purge(gd);\n",
              "            observer.disconnect();\n",
              "        }}\n",
              "}});\n",
              "\n",
              "// Listen for the removal of the full notebook cells\n",
              "var notebookContainer = gd.closest('#notebook-container');\n",
              "if (notebookContainer) {{\n",
              "    x.observe(notebookContainer, {childList: true});\n",
              "}}\n",
              "\n",
              "// Listen for the clearing of the current output cell\n",
              "var outputEl = gd.closest('.output');\n",
              "if (outputEl) {{\n",
              "    x.observe(outputEl, {childList: true});\n",
              "}}\n",
              "\n",
              "                        })\n",
              "                };\n",
              "                \n",
              "            </script>\n",
              "        </div>\n",
              "</body>\n",
              "</html>"
            ]
          },
          "metadata": {}
        }
      ]
    },
    {
      "cell_type": "code",
      "metadata": {
        "colab": {
          "base_uri": "https://localhost:8080/",
          "height": 542
        },
        "id": "OamlMNcMWDzo",
        "outputId": "6a49efa4-03ee-4aab-8290-3e716e9d4cba"
      },
      "source": [
        "fig = go.Figure()\n",
        "fig.add_trace(go.Scatter(x=Quarter, y=acb_roe,\n",
        "                    mode='lines+markers',\n",
        "                    name='ACB'))\n",
        "fig.add_trace(go.Scatter(x=Quarter, y=bid_roe,\n",
        "                    mode='lines+markers',\n",
        "                    name='BIDV'))\n",
        "fig.add_trace(go.Scatter(x=Quarter, y=vcb_roe,\n",
        "                    mode='lines+markers',\n",
        "                    name='VCB'))\n",
        "fig.add_trace(go.Scatter(x=Quarter, y=vtb_roe,\n",
        "                    mode='lines+markers',\n",
        "                    name='VTB'))\n",
        "fig.add_trace(go.Scatter(x=Quarter, y=scb_roe,\n",
        "                    mode='lines+markers',\n",
        "                    name='SCB'))\n",
        "fig.add_trace(go.Scatter(x=Quarter, y=tpb_roe,\n",
        "                    mode='lines+markers',\n",
        "                    name='TPB'))\n",
        "fig.update_layout(yaxis_title='Phần trăm',\n",
        "                  xaxis_title='Quý 2019 - Quý 2021',\n",
        "                  title = dict(text = \"ROE\"),\n",
        "                  font=dict(family=\"Arial, monospace\", size=15, color=\"Black\"),\n",
        "                  xaxis_tickangle=-45,\n",
        "                  barmode='group')\n",
        "fig.show()"
      ],
      "execution_count": null,
      "outputs": [
        {
          "output_type": "display_data",
          "data": {
            "text/html": [
              "<html>\n",
              "<head><meta charset=\"utf-8\" /></head>\n",
              "<body>\n",
              "    <div>\n",
              "            <script src=\"https://cdnjs.cloudflare.com/ajax/libs/mathjax/2.7.5/MathJax.js?config=TeX-AMS-MML_SVG\"></script><script type=\"text/javascript\">if (window.MathJax) {MathJax.Hub.Config({SVG: {font: \"STIX-Web\"}});}</script>\n",
              "                <script type=\"text/javascript\">window.PlotlyConfig = {MathJaxConfig: 'local'};</script>\n",
              "        <script src=\"https://cdn.plot.ly/plotly-latest.min.js\"></script>    \n",
              "            <div id=\"0db00dd1-b7e2-4b77-a1f0-b921a01c9841\" class=\"plotly-graph-div\" style=\"height:525px; width:100%;\"></div>\n",
              "            <script type=\"text/javascript\">\n",
              "                \n",
              "                    window.PLOTLYENV=window.PLOTLYENV || {};\n",
              "                    \n",
              "                if (document.getElementById(\"0db00dd1-b7e2-4b77-a1f0-b921a01c9841\")) {\n",
              "                    Plotly.newPlot(\n",
              "                        '0db00dd1-b7e2-4b77-a1f0-b921a01c9841',\n",
              "                        [{\"mode\": \"lines+markers\", \"name\": \"ACB\", \"type\": \"scatter\", \"x\": [\"Q1/2019\", \"Q2/2019\", \"Q3/2019\", \"Q4/2019\", \"Q1/2020\", \"Q2/2020\", \"Q3/2020\", \"Q4/2020\", \"Q1/2021\", \"Q2/2021\"], \"y\": [0.06102228678, 0.06430989223, 0.06107842323, 0.05582346128, 0.0522587354, 0.04935239486, 0.06302056614, 0.07192313463, 0.06547441446, 0.06409656504]}, {\"mode\": \"lines+markers\", \"name\": \"BIDV\", \"type\": \"scatter\", \"x\": [\"Q1/2019\", \"Q2/2019\", \"Q3/2019\", \"Q4/2019\", \"Q1/2020\", \"Q2/2020\", \"Q3/2020\", \"Q4/2020\", \"Q1/2021\", \"Q2/2021\"], \"y\": [0.03573957154, 0.03127919162, 0.03156395574, 0.03883104505, 0.01822209446, 0.02679978751, 0.0266950595, 0.02125422729, 0.03308327284, 0.04478121947]}, {\"mode\": \"lines+markers\", \"name\": \"VCB\", \"type\": \"scatter\", \"x\": [\"Q1/2019\", \"Q2/2019\", \"Q3/2019\", \"Q4/2019\", \"Q1/2020\", \"Q2/2020\", \"Q3/2020\", \"Q4/2020\", \"Q1/2021\", \"Q2/2021\"], \"y\": [0.06454007116, 0.05643889018, 0.06206584977, 0.05131431137, 0.04916606743, 0.05152139368, 0.04270122837, 0.05739265406, 0.06838610756, 0.03773852672]}, {\"mode\": \"lines+markers\", \"name\": \"VTB\", \"type\": \"scatter\", \"x\": [\"Q1/2019\", \"Q2/2019\", \"Q3/2019\", \"Q4/2019\", \"Q1/2020\", \"Q2/2020\", \"Q3/2020\", \"Q4/2020\", \"Q1/2021\", \"Q2/2021\"], \"y\": [0.03620771538, 0.02439094132, 0.03361634104, 0.03430607074, 0.03051236325, 0.04456020623, 0.02810345393, 0.06305274451, 0.0704633601, 0.02402158671]}, {\"mode\": \"lines+markers\", \"name\": \"SCB\", \"type\": \"scatter\", \"x\": [\"Q1/2019\", \"Q2/2019\", \"Q3/2019\", \"Q4/2019\", \"Q1/2020\", \"Q2/2020\", \"Q3/2020\", \"Q4/2020\", \"Q1/2021\", \"Q2/2021\"], \"y\": [0.0331371085, 0.01204694585, 0.02934879187, 0.01987791325, 0.02852412163, 0.0125099726, 0.02539514651, 0.02889221605, 0.02694106082, 0.03662607474]}, {\"mode\": \"lines+markers\", \"name\": \"TPB\", \"type\": \"scatter\", \"x\": [\"Q1/2019\", \"Q2/2019\", \"Q3/2019\", \"Q4/2019\", \"Q1/2020\", \"Q2/2020\", \"Q3/2020\", \"Q4/2020\", \"Q1/2021\", \"Q2/2021\"], \"y\": [0.06014783178, 0.05434640788, 0.05267704133, 0.08958055126, 0.0583783103, 0.05657442642, 0.05126994501, 0.06513128674, 0.06340055887, 0.06256565149]}],\n",
              "                        {\"barmode\": \"group\", \"font\": {\"color\": \"Black\", \"family\": \"Arial, monospace\", \"size\": 15}, \"template\": {\"data\": {\"bar\": [{\"error_x\": {\"color\": \"#2a3f5f\"}, \"error_y\": {\"color\": \"#2a3f5f\"}, \"marker\": {\"line\": {\"color\": \"#E5ECF6\", \"width\": 0.5}}, \"type\": \"bar\"}], \"barpolar\": [{\"marker\": {\"line\": {\"color\": \"#E5ECF6\", \"width\": 0.5}}, \"type\": \"barpolar\"}], \"carpet\": [{\"aaxis\": {\"endlinecolor\": \"#2a3f5f\", \"gridcolor\": \"white\", \"linecolor\": \"white\", \"minorgridcolor\": \"white\", \"startlinecolor\": \"#2a3f5f\"}, \"baxis\": {\"endlinecolor\": \"#2a3f5f\", \"gridcolor\": \"white\", \"linecolor\": \"white\", \"minorgridcolor\": \"white\", \"startlinecolor\": \"#2a3f5f\"}, \"type\": \"carpet\"}], \"choropleth\": [{\"colorbar\": {\"outlinewidth\": 0, \"ticks\": \"\"}, \"type\": \"choropleth\"}], \"contour\": [{\"colorbar\": {\"outlinewidth\": 0, \"ticks\": \"\"}, \"colorscale\": [[0.0, \"#0d0887\"], [0.1111111111111111, \"#46039f\"], [0.2222222222222222, \"#7201a8\"], [0.3333333333333333, \"#9c179e\"], [0.4444444444444444, \"#bd3786\"], [0.5555555555555556, \"#d8576b\"], [0.6666666666666666, \"#ed7953\"], [0.7777777777777778, \"#fb9f3a\"], [0.8888888888888888, \"#fdca26\"], [1.0, \"#f0f921\"]], \"type\": \"contour\"}], \"contourcarpet\": [{\"colorbar\": {\"outlinewidth\": 0, \"ticks\": \"\"}, \"type\": \"contourcarpet\"}], \"heatmap\": [{\"colorbar\": {\"outlinewidth\": 0, \"ticks\": \"\"}, \"colorscale\": [[0.0, \"#0d0887\"], [0.1111111111111111, \"#46039f\"], [0.2222222222222222, \"#7201a8\"], [0.3333333333333333, \"#9c179e\"], [0.4444444444444444, \"#bd3786\"], [0.5555555555555556, \"#d8576b\"], [0.6666666666666666, \"#ed7953\"], [0.7777777777777778, \"#fb9f3a\"], [0.8888888888888888, \"#fdca26\"], [1.0, \"#f0f921\"]], \"type\": \"heatmap\"}], \"heatmapgl\": [{\"colorbar\": {\"outlinewidth\": 0, \"ticks\": \"\"}, \"colorscale\": [[0.0, \"#0d0887\"], [0.1111111111111111, \"#46039f\"], [0.2222222222222222, \"#7201a8\"], [0.3333333333333333, \"#9c179e\"], [0.4444444444444444, \"#bd3786\"], [0.5555555555555556, \"#d8576b\"], [0.6666666666666666, \"#ed7953\"], [0.7777777777777778, \"#fb9f3a\"], [0.8888888888888888, \"#fdca26\"], [1.0, \"#f0f921\"]], \"type\": \"heatmapgl\"}], \"histogram\": [{\"marker\": {\"colorbar\": {\"outlinewidth\": 0, \"ticks\": \"\"}}, \"type\": \"histogram\"}], \"histogram2d\": [{\"colorbar\": {\"outlinewidth\": 0, \"ticks\": \"\"}, \"colorscale\": [[0.0, \"#0d0887\"], [0.1111111111111111, \"#46039f\"], [0.2222222222222222, \"#7201a8\"], [0.3333333333333333, \"#9c179e\"], [0.4444444444444444, \"#bd3786\"], [0.5555555555555556, \"#d8576b\"], [0.6666666666666666, \"#ed7953\"], [0.7777777777777778, \"#fb9f3a\"], [0.8888888888888888, \"#fdca26\"], [1.0, \"#f0f921\"]], \"type\": \"histogram2d\"}], \"histogram2dcontour\": [{\"colorbar\": {\"outlinewidth\": 0, \"ticks\": \"\"}, \"colorscale\": [[0.0, \"#0d0887\"], [0.1111111111111111, \"#46039f\"], [0.2222222222222222, \"#7201a8\"], [0.3333333333333333, \"#9c179e\"], [0.4444444444444444, \"#bd3786\"], [0.5555555555555556, \"#d8576b\"], [0.6666666666666666, \"#ed7953\"], [0.7777777777777778, \"#fb9f3a\"], [0.8888888888888888, \"#fdca26\"], [1.0, \"#f0f921\"]], \"type\": \"histogram2dcontour\"}], \"mesh3d\": [{\"colorbar\": {\"outlinewidth\": 0, \"ticks\": \"\"}, \"type\": \"mesh3d\"}], \"parcoords\": [{\"line\": {\"colorbar\": {\"outlinewidth\": 0, \"ticks\": \"\"}}, \"type\": \"parcoords\"}], \"pie\": [{\"automargin\": true, \"type\": \"pie\"}], \"scatter\": [{\"marker\": {\"colorbar\": {\"outlinewidth\": 0, \"ticks\": \"\"}}, \"type\": \"scatter\"}], \"scatter3d\": [{\"line\": {\"colorbar\": {\"outlinewidth\": 0, \"ticks\": \"\"}}, \"marker\": {\"colorbar\": {\"outlinewidth\": 0, \"ticks\": \"\"}}, \"type\": \"scatter3d\"}], \"scattercarpet\": [{\"marker\": {\"colorbar\": {\"outlinewidth\": 0, \"ticks\": \"\"}}, \"type\": \"scattercarpet\"}], \"scattergeo\": [{\"marker\": {\"colorbar\": {\"outlinewidth\": 0, \"ticks\": \"\"}}, \"type\": \"scattergeo\"}], \"scattergl\": [{\"marker\": {\"colorbar\": {\"outlinewidth\": 0, \"ticks\": \"\"}}, \"type\": \"scattergl\"}], \"scattermapbox\": [{\"marker\": {\"colorbar\": {\"outlinewidth\": 0, \"ticks\": \"\"}}, \"type\": \"scattermapbox\"}], \"scatterpolar\": [{\"marker\": {\"colorbar\": {\"outlinewidth\": 0, \"ticks\": \"\"}}, \"type\": \"scatterpolar\"}], \"scatterpolargl\": [{\"marker\": {\"colorbar\": {\"outlinewidth\": 0, \"ticks\": \"\"}}, \"type\": \"scatterpolargl\"}], \"scatterternary\": [{\"marker\": {\"colorbar\": {\"outlinewidth\": 0, \"ticks\": \"\"}}, \"type\": \"scatterternary\"}], \"surface\": [{\"colorbar\": {\"outlinewidth\": 0, \"ticks\": \"\"}, \"colorscale\": [[0.0, \"#0d0887\"], [0.1111111111111111, \"#46039f\"], [0.2222222222222222, \"#7201a8\"], [0.3333333333333333, \"#9c179e\"], [0.4444444444444444, \"#bd3786\"], [0.5555555555555556, \"#d8576b\"], [0.6666666666666666, \"#ed7953\"], [0.7777777777777778, \"#fb9f3a\"], [0.8888888888888888, \"#fdca26\"], [1.0, \"#f0f921\"]], \"type\": \"surface\"}], \"table\": [{\"cells\": {\"fill\": {\"color\": \"#EBF0F8\"}, \"line\": {\"color\": \"white\"}}, \"header\": {\"fill\": {\"color\": \"#C8D4E3\"}, \"line\": {\"color\": \"white\"}}, \"type\": \"table\"}]}, \"layout\": {\"annotationdefaults\": {\"arrowcolor\": \"#2a3f5f\", \"arrowhead\": 0, \"arrowwidth\": 1}, \"coloraxis\": {\"colorbar\": {\"outlinewidth\": 0, \"ticks\": \"\"}}, \"colorscale\": {\"diverging\": [[0, \"#8e0152\"], [0.1, \"#c51b7d\"], [0.2, \"#de77ae\"], [0.3, \"#f1b6da\"], [0.4, \"#fde0ef\"], [0.5, \"#f7f7f7\"], [0.6, \"#e6f5d0\"], [0.7, \"#b8e186\"], [0.8, \"#7fbc41\"], [0.9, \"#4d9221\"], [1, \"#276419\"]], \"sequential\": [[0.0, \"#0d0887\"], [0.1111111111111111, \"#46039f\"], [0.2222222222222222, \"#7201a8\"], [0.3333333333333333, \"#9c179e\"], [0.4444444444444444, \"#bd3786\"], [0.5555555555555556, \"#d8576b\"], [0.6666666666666666, \"#ed7953\"], [0.7777777777777778, \"#fb9f3a\"], [0.8888888888888888, \"#fdca26\"], [1.0, \"#f0f921\"]], \"sequentialminus\": [[0.0, \"#0d0887\"], [0.1111111111111111, \"#46039f\"], [0.2222222222222222, \"#7201a8\"], [0.3333333333333333, \"#9c179e\"], [0.4444444444444444, \"#bd3786\"], [0.5555555555555556, \"#d8576b\"], [0.6666666666666666, \"#ed7953\"], [0.7777777777777778, \"#fb9f3a\"], [0.8888888888888888, \"#fdca26\"], [1.0, \"#f0f921\"]]}, \"colorway\": [\"#636efa\", \"#EF553B\", \"#00cc96\", \"#ab63fa\", \"#FFA15A\", \"#19d3f3\", \"#FF6692\", \"#B6E880\", \"#FF97FF\", \"#FECB52\"], \"font\": {\"color\": \"#2a3f5f\"}, \"geo\": {\"bgcolor\": \"white\", \"lakecolor\": \"white\", \"landcolor\": \"#E5ECF6\", \"showlakes\": true, \"showland\": true, \"subunitcolor\": \"white\"}, \"hoverlabel\": {\"align\": \"left\"}, \"hovermode\": \"closest\", \"mapbox\": {\"style\": \"light\"}, \"paper_bgcolor\": \"white\", \"plot_bgcolor\": \"#E5ECF6\", \"polar\": {\"angularaxis\": {\"gridcolor\": \"white\", \"linecolor\": \"white\", \"ticks\": \"\"}, \"bgcolor\": \"#E5ECF6\", \"radialaxis\": {\"gridcolor\": \"white\", \"linecolor\": \"white\", \"ticks\": \"\"}}, \"scene\": {\"xaxis\": {\"backgroundcolor\": \"#E5ECF6\", \"gridcolor\": \"white\", \"gridwidth\": 2, \"linecolor\": \"white\", \"showbackground\": true, \"ticks\": \"\", \"zerolinecolor\": \"white\"}, \"yaxis\": {\"backgroundcolor\": \"#E5ECF6\", \"gridcolor\": \"white\", \"gridwidth\": 2, \"linecolor\": \"white\", \"showbackground\": true, \"ticks\": \"\", \"zerolinecolor\": \"white\"}, \"zaxis\": {\"backgroundcolor\": \"#E5ECF6\", \"gridcolor\": \"white\", \"gridwidth\": 2, \"linecolor\": \"white\", \"showbackground\": true, \"ticks\": \"\", \"zerolinecolor\": \"white\"}}, \"shapedefaults\": {\"line\": {\"color\": \"#2a3f5f\"}}, \"ternary\": {\"aaxis\": {\"gridcolor\": \"white\", \"linecolor\": \"white\", \"ticks\": \"\"}, \"baxis\": {\"gridcolor\": \"white\", \"linecolor\": \"white\", \"ticks\": \"\"}, \"bgcolor\": \"#E5ECF6\", \"caxis\": {\"gridcolor\": \"white\", \"linecolor\": \"white\", \"ticks\": \"\"}}, \"title\": {\"x\": 0.05}, \"xaxis\": {\"automargin\": true, \"gridcolor\": \"white\", \"linecolor\": \"white\", \"ticks\": \"\", \"title\": {\"standoff\": 15}, \"zerolinecolor\": \"white\", \"zerolinewidth\": 2}, \"yaxis\": {\"automargin\": true, \"gridcolor\": \"white\", \"linecolor\": \"white\", \"ticks\": \"\", \"title\": {\"standoff\": 15}, \"zerolinecolor\": \"white\", \"zerolinewidth\": 2}}}, \"title\": {\"text\": \"ROE\"}, \"xaxis\": {\"tickangle\": -45, \"title\": {\"text\": \"Qu\\u00fd 2019 - Qu\\u00fd 2021\"}}, \"yaxis\": {\"title\": {\"text\": \"Ph\\u1ea7n tr\\u0103m\"}}},\n",
              "                        {\"responsive\": true}\n",
              "                    ).then(function(){\n",
              "                            \n",
              "var gd = document.getElementById('0db00dd1-b7e2-4b77-a1f0-b921a01c9841');\n",
              "var x = new MutationObserver(function (mutations, observer) {{\n",
              "        var display = window.getComputedStyle(gd).display;\n",
              "        if (!display || display === 'none') {{\n",
              "            console.log([gd, 'removed!']);\n",
              "            Plotly.purge(gd);\n",
              "            observer.disconnect();\n",
              "        }}\n",
              "}});\n",
              "\n",
              "// Listen for the removal of the full notebook cells\n",
              "var notebookContainer = gd.closest('#notebook-container');\n",
              "if (notebookContainer) {{\n",
              "    x.observe(notebookContainer, {childList: true});\n",
              "}}\n",
              "\n",
              "// Listen for the clearing of the current output cell\n",
              "var outputEl = gd.closest('.output');\n",
              "if (outputEl) {{\n",
              "    x.observe(outputEl, {childList: true});\n",
              "}}\n",
              "\n",
              "                        })\n",
              "                };\n",
              "                \n",
              "            </script>\n",
              "        </div>\n",
              "</body>\n",
              "</html>"
            ]
          },
          "metadata": {}
        }
      ]
    }
  ]
}